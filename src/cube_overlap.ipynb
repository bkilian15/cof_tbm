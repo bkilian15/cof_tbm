{
 "cells": [
  {
   "cell_type": "code",
   "execution_count": 1,
   "id": "7148ddcf",
   "metadata": {},
   "outputs": [],
   "source": [
    "from cube import Cube"
   ]
  },
  {
   "cell_type": "code",
   "execution_count": 4,
   "id": "3e353042",
   "metadata": {},
   "outputs": [],
   "source": [
    "f_cube_1 = \"/scratch/kilian/out/conf_B/C6H4/e1_13_gamma.cub\"\n",
    "f_cube_2 = \"/scratch/kilian/out/conf_B/C6H4/e2_14_gamma.cub\"\n",
    "f_cube_3 = \"/scratch/kilian/out/conf_B/C6H4/homo_15_gamma.cub\"\n",
    "f_cube_4 = \"/scratch/kilian/out/conf_B/C6H4/lumo_16_gamma.cub\"\n",
    "f_cube_5 = \"/scratch/kilian/out/conf_B/C6H4/e5_17_gamma.cub\"\n",
    "f_cube_6 = \"/scratch/kilian/out/conf_B/C6H4/e6_18_gamma.cub\"\n",
    "\n",
    "# cube_1 = Cube(f_cube_1)\n",
    "cube_2 = Cube(f_cube_2)\n",
    "cube_3 = Cube(f_cube_3)\n",
    "cube_4 = Cube(f_cube_4)\n",
    "cube_5 = Cube(f_cube_5)\n",
    "cube_6 = Cube(f_cube_6)"
   ]
  },
  {
   "cell_type": "code",
   "execution_count": 5,
   "id": "e133f054",
   "metadata": {},
   "outputs": [],
   "source": [
    "cubes = [cube_1,cube_2,cube_3,cube_4,cube_5,cube_6]"
   ]
  },
  {
   "cell_type": "code",
   "execution_count": 8,
   "id": "55ee1b56",
   "metadata": {},
   "outputs": [
    {
     "name": "stdout",
     "output_type": "stream",
     "text": [
      "1 1 0.010645536705851555\n",
      "1 2 0.0021213407162576914\n",
      "1 3 0.002595737809315324\n",
      "1 4 0.0021082304883748293\n",
      "1 5 0.002379789249971509\n",
      "1 6 0.0004905831883661449\n",
      "\n",
      "2 2 0.009664728306233883\n",
      "2 3 0.003221366787329316\n",
      "2 4 0.0038387093227356672\n",
      "2 5 0.008441895246505737\n",
      "2 6 0.00027425456210039556\n",
      "\n",
      "3 3 0.009664943441748619\n",
      "3 4 0.008442233316600323\n",
      "3 5 0.003838238539174199\n",
      "3 6 0.00027430435875430703\n",
      "\n",
      "4 4 0.009240967221558094\n",
      "4 5 0.0030798178631812334\n",
      "4 6 0.00030309773865155876\n",
      "\n",
      "5 5 0.009240263141691685\n",
      "5 6 0.0003030032676178962\n",
      "\n",
      "6 6 0.0002520699054002762\n",
      "\n"
     ]
    }
   ],
   "source": [
    "for i in range(len(cubes)):\n",
    "    for j in range(i,len(cubes)):\n",
    "        \n",
    "    #    overlap = cube_2.spatial_overlap(cube)\n",
    "    #    norm = cube_2._multiply_abs(cube_2.data, cube.data, cube_1.dV)\n",
    "    #    print(f'overlap w/ cube {i+1}: {overlap}')\n",
    "        print(i+1,j+1, cubes[i]*cubes[j])\n",
    "    print()"
   ]
  },
  {
   "cell_type": "code",
   "execution_count": 31,
   "id": "d730d93a",
   "metadata": {},
   "outputs": [
    {
     "name": "stdout",
     "output_type": "stream",
     "text": [
      "0.010549377650022507\n",
      "\n",
      "\n",
      "0.002667264314368367\n",
      "\n",
      "\n",
      "0.0020221485756337643\n",
      "\n",
      "\n",
      "0.002383642364293337\n",
      "\n",
      "\n",
      "0.002096358686685562\n",
      "\n",
      "\n",
      "0.0004926628898829222\n",
      "\n",
      "\n"
     ]
    }
   ],
   "source": [
    "for i,cube in enumerate(cubes):\n",
    "    overlap = cube_1.spatial_overlap(cube)\n",
    "    norm = cube_1._multiply_abs(cube_1.data, cube.data, cube_1.dV)\n",
    "#    print(f'overlap w/ cube {i+1}: {overlap}')\n",
    "    print(cube_1*cube)\n",
    "    \n",
    "    print()\n",
    "    print()"
   ]
  },
  {
   "cell_type": "code",
   "execution_count": 37,
   "id": "4cea4dc7",
   "metadata": {},
   "outputs": [
    {
     "name": "stdout",
     "output_type": "stream",
     "text": [
      "0.0004926628898829222\n",
      "\n",
      "\n",
      "0.0002757050679065287\n",
      "\n",
      "\n",
      "0.00027566985227167606\n",
      "\n",
      "\n",
      "0.0003051648964174092\n",
      "\n",
      "\n",
      "0.0003052584652323276\n",
      "\n",
      "\n",
      "0.0002534943341743201\n",
      "\n",
      "\n"
     ]
    }
   ],
   "source": [
    "for i,cube in enumerate(cubes):\n",
    "#     overlap = cube_1.spatial_overlap(cube)\n",
    "#     norm = cube_1._multiply_abs(cube_3.data, cube.data, cube_3.dV)\n",
    "#    print(f'overlap w/ cube {i+1}: {overlap}')\n",
    "    print(cube_6*cube)\n",
    "    \n",
    "    print()\n",
    "    print()"
   ]
  },
  {
   "cell_type": "code",
   "execution_count": 16,
   "id": "0a552c56",
   "metadata": {},
   "outputs": [
    {
     "name": "stdout",
     "output_type": "stream",
     "text": [
      "product 0.010549377650022507\n",
      "overlap 0.010549377650022507\n",
      "norm 0.010549377650022507\n"
     ]
    }
   ],
   "source": [
    "print('product',cube_1*cube_1)\n",
    "print('overlap',cube_1.spatial_overlap(cube_1))\n",
    "overlap = cube_1.spatial_overlap(cube_1)\n",
    "norm = cube_1._multiply_abs(cube_1.data, cube_1.data, cube_1.dV)\n",
    "print('norm',cube_1._multiply_abs(cube_1.data, cube_1.data, cube_1.dV))"
   ]
  },
  {
   "cell_type": "code",
   "execution_count": 15,
   "id": "d9e32828",
   "metadata": {},
   "outputs": [
    {
     "name": "stdout",
     "output_type": "stream",
     "text": [
      "product 0.002667264314368367\n",
      "overlap 2.9485405783624685e-10\n",
      "norm 0.002667264314368367\n"
     ]
    },
    {
     "data": {
      "text/plain": [
       "1.1054549646538162e-07"
      ]
     },
     "execution_count": 15,
     "metadata": {},
     "output_type": "execute_result"
    }
   ],
   "source": [
    "print('product',cube_1*cube_2)\n",
    "print('overlap',cube_1.spatial_overlap(cube_2))\n",
    "print('norm',cube_1._multiply_abs(cube_1.data, cube_2.data, cube_1.dV))\n",
    "\n",
    "overlap2 = cube_1.spatial_overlap(cube_2)\n",
    "norm2 = cube_1._multiply_abs(cube_1.data, cube_2.data, cube_1.dV)\n",
    "overlap2/norm2"
   ]
  },
  {
   "cell_type": "code",
   "execution_count": 19,
   "id": "c5eafc12",
   "metadata": {},
   "outputs": [
    {
     "name": "stdout",
     "output_type": "stream",
     "text": [
      "product 0.003198280232027173\n"
     ]
    },
    {
     "data": {
      "text/plain": [
       "-3.79064481880451e-07"
      ]
     },
     "execution_count": 19,
     "metadata": {},
     "output_type": "execute_result"
    }
   ],
   "source": [
    "print('product',cube_2*cube_3)\n",
    "overlap3=cube_2.spatial_overlap(cube_3)\n",
    "norm3=cube_2._multiply_abs(cube_2.data, cube_3.data, cube_2.dV)\n",
    "overlap3/norm3"
   ]
  },
  {
   "cell_type": "code",
   "execution_count": 21,
   "id": "a765dec8",
   "metadata": {},
   "outputs": [
    {
     "name": "stdout",
     "output_type": "stream",
     "text": [
      "product 0.008571857586503029\n"
     ]
    },
    {
     "data": {
      "text/plain": [
       "2.249298860933561e-06"
      ]
     },
     "execution_count": 21,
     "metadata": {},
     "output_type": "execute_result"
    }
   ],
   "source": [
    "print('product',cube_3*cube_4)\n",
    "overlap4 = cube_3.spatial_overlap(cube_4)\n",
    "norm4 = cube_3._multiply_abs(cube_3.data, cube_4.data, cube_3.dV)\n",
    "\n",
    "overlap4/norm4"
   ]
  },
  {
   "cell_type": "code",
   "execution_count": 22,
   "id": "0b94fa7a",
   "metadata": {},
   "outputs": [
    {
     "name": "stdout",
     "output_type": "stream",
     "text": [
      "product 0.00309269898571074\n"
     ]
    },
    {
     "data": {
      "text/plain": [
       "0.00013674561292160525"
      ]
     },
     "execution_count": 22,
     "metadata": {},
     "output_type": "execute_result"
    }
   ],
   "source": [
    "print('product',cube_4*cube_5)\n",
    "overlap5 = cube_4.spatial_overlap(cube_5)\n",
    "norm5 = cube_4._multiply_abs(cube_4.data, cube_5.data, cube_4.dV)\n",
    "\n",
    "overlap5/norm5"
   ]
  },
  {
   "cell_type": "code",
   "execution_count": 23,
   "id": "8b4d91e4",
   "metadata": {},
   "outputs": [
    {
     "name": "stdout",
     "output_type": "stream",
     "text": [
      "product 0.0003052584652323276\n"
     ]
    },
    {
     "data": {
      "text/plain": [
       "0.00011267183273164242"
      ]
     },
     "execution_count": 23,
     "metadata": {},
     "output_type": "execute_result"
    }
   ],
   "source": [
    "print('product',cube_5*cube_6)\n",
    "overlap6 = cube_5.spatial_overlap(cube_6)\n",
    "norm6 = cube_5._multiply_abs(cube_5.data, cube_6.data, cube_5.dV)\n",
    "\n",
    "overlap6/norm6"
   ]
  },
  {
   "cell_type": "code",
   "execution_count": 31,
   "id": "a7a3feec",
   "metadata": {},
   "outputs": [
    {
     "name": "stdout",
     "output_type": "stream",
     "text": [
      "nxs: !!!   270 270\n",
      "overlap 2.9485405783624685e-10\n"
     ]
    }
   ],
   "source": [
    "print('overlap',cube_1.spatial_overlap(cube_2))"
   ]
  },
  {
   "cell_type": "code",
   "execution_count": 29,
   "id": "94b59c73",
   "metadata": {},
   "outputs": [
    {
     "name": "stdout",
     "output_type": "stream",
     "text": [
      "nxs: !!!   270 270\n",
      "nxs: !!!   270 270\n"
     ]
    },
    {
     "data": {
      "text/plain": [
       "0.002667264314368367"
      ]
     },
     "execution_count": 29,
     "metadata": {},
     "output_type": "execute_result"
    }
   ],
   "source": []
  },
  {
   "cell_type": "code",
   "execution_count": null,
   "id": "4d238d37",
   "metadata": {},
   "outputs": [],
   "source": []
  }
 ],
 "metadata": {
  "kernelspec": {
   "display_name": "Python 3 (ipykernel)",
   "language": "python",
   "name": "python3"
  },
  "language_info": {
   "codemirror_mode": {
    "name": "ipython",
    "version": 3
   },
   "file_extension": ".py",
   "mimetype": "text/x-python",
   "name": "python",
   "nbconvert_exporter": "python",
   "pygments_lexer": "ipython3",
   "version": "3.8.5"
  }
 },
 "nbformat": 4,
 "nbformat_minor": 5
}
