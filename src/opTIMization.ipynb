{
 "cells": [
  {
   "cell_type": "code",
   "execution_count": 23,
   "id": "17c0dbfe",
   "metadata": {},
   "outputs": [],
   "source": [
    "from scipy.optimize import minimize\n",
    "import numpy as np\n",
    "import matplotlib.pyplot as plt"
   ]
  },
  {
   "cell_type": "code",
   "execution_count": 24,
   "id": "e29ba051",
   "metadata": {},
   "outputs": [],
   "source": [
    "def disp_H(x):\n",
    "\n",
    "    cc = round(x[0],2)\n",
    "    ch = round(x[1],2)\n",
    "    tcc = round(x[2],2)\n",
    "    tch = round(x[3],2)\n",
    "    \n",
    "    H = np.array([\n",
    "        np.array([cc,tch,0,0,0,tch,tcc,0,0,0,0,0]),\n",
    "        np.array([tch,ch,tch,0,0,0,0,0,0,0,0,0]),\n",
    "        np.array([0,tch,cc,tch,0,0,0,0,tcc,0,0,0]),\n",
    "        np.array([0,0,tch,ch,tch,0,0,0,0,0,0,0]),\n",
    "        np.array([0,0,0,tch,ch,tch,0,0,0,0,0,0]),\n",
    "        np.array([tch,0,0,0,tch,ch,0,0,0,0,0,0]),    \n",
    "        np.array([tcc,0,0,0,0,0,cc,tch,0,0,0,tch]),\n",
    "        np.array([0,0,0,0,0,0,tch,ch,tch,0,0,0]),\n",
    "        np.array([0,0,tcc,0,0,0,0,tch,cc,tch,0,0]),\n",
    "        np.array([0,0,0,0,0,0,0,0,tch,ch,tch,0]),\n",
    "        np.array([0,0,0,0,0,0,0,0,0,tch,ch,tch]),\n",
    "        np.array([0,0,0,0,0,0,tch,0,0,0,tch,ch])\n",
    "    ])\n",
    "    print(H)\n",
    "\n",
    "def test_H(x, H):\n",
    "\n",
    "#     cc = x[0]\n",
    "#     ch = x[1]\n",
    "#     tcc = x[1]\n",
    "#     tch = x[3]\n",
    "    \n",
    "#     H = np.array([\n",
    "#         np.array([cc,tch,0,0,0,tch,tcc,0,0,0,0,0]),\n",
    "#         np.array([tch,ch,tch,0,0,0,0,0,0,0,0,0]),\n",
    "#         np.array([0,tch,cc,tch,0,0,0,0,tcc,0,0,0]),\n",
    "#         np.array([0,0,tch,ch,tch,0,0,0,0,0,0,0]),\n",
    "#         np.array([0,0,0,tch,ch,tch,0,0,0,0,0,0]),\n",
    "#         np.array([tch,0,0,0,tch,ch,0,0,0,0,0,0]),    \n",
    "#         np.array([tcc,0,0,0,0,0,cc,tch,0,0,0,tch]),\n",
    "#         np.array([0,0,0,0,0,0,tch,ch,tch,0,0,0]),\n",
    "#         np.array([0,0,tcc,0,0,0,0,tch,cc,tch,0,0]),\n",
    "#         np.array([0,0,0,0,0,0,0,0,tch,ch,tch,0]),\n",
    "#         np.array([0,0,0,0,0,0,0,0,0,tch,ch,tch]),\n",
    "#         np.array([0,0,0,0,0,0,tch,0,0,0,tch,ch])\n",
    "#     ])\n",
    "\n",
    "#     H = np.array([\n",
    "#         np.array([cc,tch,0,0,0,tch,0,0,tcc,0,0,0]), # 1\n",
    "#         np.array([tch,ch,tch,0,0,0,0,0,0,0,0,0]),   # 2\n",
    "#         np.array([0,tch,cc,tch,0,0,0,0,0,0,tcc,0]), # 3\n",
    "#         np.array([0,0,tch,ch,tch,0,0,0,0,0,0,0]),   # 4\n",
    "#         np.array([0,0,0,tch,cc,tch,tcc,0,0,0,0,0]), # 5\n",
    "#         np.array([tch,0,0,0,tch,ch,0,0,0,0,0,0]),   # 6\n",
    "#         np.array([0,0,0,0,tcc,0,cc,tch,0,0,0,tch]), # 7\n",
    "#         np.array([0,0,0,0,0,0,tch,ch,tch,0,0,0]),   # 8\n",
    "#         np.array([tcc,0,0,0,0,0,0,tch,cc,tch,0,0]), # 9\n",
    "#         np.array([0,0,0,0,0,0,0,0,tch,ch,tch,0]),   # 10\n",
    "#         np.array([0,0,tcc,0,0,0,0,0,0,tch,cc,tch]), # 11\n",
    "#         np.array([0,0,0,0,0,0,tch,0,0,0,tch,ch])    # 12\n",
    "#     ])\n",
    "    \n",
    "#     H = np.array([[cc,tcc],\n",
    "#             [tcc,cc]])\n",
    "    \n",
    "    E_t = np.linalg.eig(H)[0]\n",
    "    return E_t\n",
    "    \n",
    "def f(x, H, Ed):\n",
    "    \"\"\"\n",
    "    x is the unknowns\n",
    "    \"\"\"\n",
    "\n",
    "    E_t = np.linalg.eig(H)[0]\n",
    "#     E_d = [-7.65165, -7.65165, -6.80908,-6.80908, -5.2358,-5.2358,\n",
    "#            -1.79467,-1.79467,0.27853,0.27853,0.37911,0.37911]\n",
    "    #    E_d = get_dft_energies(23,35,\"C6H4_C6H4\",conf=\"B\")\n",
    "\n",
    "\n",
    "    diff = np.subtract(Ed, E_t)\n",
    "#     print(np.linalg.norm(diff))\n",
    "    return np.linalg.norm(diff)\n",
    "\n",
    "\n",
    "def get_dft_energies(low, high, pref, conf='B'):\n",
    "\n",
    "    states = list(range(low,high))\n",
    "    \n",
    "    fname = f\"/scratch/kilian/out/conf_{conf}/{pref}/{pref}_scf.pwo\"\n",
    "    with open(fname) as f:\n",
    "        lines = f.readlines()\n",
    "    \n",
    "    for i,line in enumerate(lines):\n",
    "        if \" k = 0.0000 0.0000 0.0000\" in line:\n",
    "            loi = i\n",
    "    \n",
    "    l1 = [float(e) for e in lines[loi+2].split()]\n",
    "    l2 = [float(e) for e in lines[loi+3].split()]\n",
    "    l3 = [float(e) for e in lines[loi+4].split()]\n",
    "    l4 = [float(e) for e in lines[loi+5].split()]\n",
    "    l5 = [float(e) for e in lines[loi+6].split()]\n",
    "    l6 = [float(e) for e in lines[loi+7].split()]\n",
    "    l7 = [float(e) for e in lines[loi+8].split()]\n",
    "    all_eigs = l1+l2+l3+l4+l5+l6+l7\n",
    "#     return np.array([-6.98890,-6.96555,-6.50099,-6.41836,-4.56937,-4.54055,\n",
    "#                      -0.55548,-0.48118,0.27372,0.77300,0.91215,1.55538])\n",
    "    return np.array(all_eigs[low-1:high-1])\n"
   ]
  },
  {
   "cell_type": "code",
   "execution_count": 25,
   "id": "d338648c",
   "metadata": {},
   "outputs": [
    {
     "name": "stdout",
     "output_type": "stream",
     "text": [
      "h\n"
     ]
    }
   ],
   "source": [
    "print('h')"
   ]
  },
  {
   "cell_type": "code",
   "execution_count": 26,
   "id": "d3d6d8bb",
   "metadata": {},
   "outputs": [],
   "source": [
    "def get_simple_ham_C6H4_C6H4(cc,tcc):\n",
    "    return np.array([\n",
    "        np.array([cc,tcc,0,0,0,tcc,tcc,0,0,0,0,0]), # 1\n",
    "        np.array([tcc,cc,tcc,0,0,0,0,0,0,0,0,0]),   # 2\n",
    "        np.array([0,tcc,cc,tcc,0,0,0,0,tcc,0,0,0]), # 3\n",
    "        np.array([0,0,tcc,cc,tcc,0,0,0,0,0,0,0]),   # 4\n",
    "        np.array([0,0,0,tcc,cc,tcc,0,0,0,0,0,0]),   # 5\n",
    "        np.array([tcc,0,0,0,tcc,cc,0,0,0,0,0,0]),   # 6\n",
    "        np.array([tcc,0,0,0,0,0,cc,tcc,0,0,0,tcc]), # 7\n",
    "        np.array([0,0,0,0,0,0,tcc,cc,tcc,0,0,0]),   # 8\n",
    "        np.array([0,0,tcc,0,0,0,0,tcc,cc,tcc,0,0]), # 9\n",
    "        np.array([0,0,0,0,0,0,0,0,tcc,cc,tcc,0]),   # 10\n",
    "        np.array([0,0,0,0,0,0,0,0,0,tcc,cc,tcc]),   # 11\n",
    "        np.array([0,0,0,0,0,0,tcc,0,0,0,tcc,cc])    # 12\n",
    "    ])\n",
    "\n",
    "def get_complex_ham_C6H4_C6H4(cc, ch, tcc, tch):\n",
    "    return  np.array([\n",
    "        np.array([cc,tch,0,0,0,tch,tcc,0,0,0,0,0]), # 1\n",
    "        np.array([tch,ch,tch,0,0,0,0,0,0,0,0,0]),   # 2\n",
    "        np.array([0,tch,cc,tch,0,0,0,0,tcc,0,0,0]), # 3\n",
    "        np.array([0,0,tch,ch,tch,0,0,0,0,0,0,0]),   # 4\n",
    "        np.array([0,0,0,tch,ch,tch,0,0,0,0,0,0]),   # 5\n",
    "        np.array([tch,0,0,0,tch,ch,0,0,0,0,0,0]),   # 6\n",
    "        np.array([tcc,0,0,0,0,0,cc,tch,0,0,0,tch]), # 7\n",
    "        np.array([0,0,0,0,0,0,tch,ch,tch,0,0,0]),   # 8\n",
    "        np.array([0,0,tcc,0,0,0,0,tch,cc,tch,0,0]), # 9\n",
    "        np.array([0,0,0,0,0,0,0,0,tch,ch,tch,0]),   # 10\n",
    "        np.array([0,0,0,0,0,0,0,0,0,tch,ch,tch]),   # 11\n",
    "        np.array([0,0,0,0,0,0,tch,0,0,0,tch,ch])    # 12\n",
    "    ])"
   ]
  },
  {
   "cell_type": "code",
   "execution_count": 119,
   "id": "90504da3",
   "metadata": {},
   "outputs": [],
   "source": [
    "E_ds = {\"C6H4_C6H4\":[-7.6850,  -7.6417, -7.1514,  -6.3527,  -5.7582, -5.1511,  -1.7408,  -0.7443,  -0.5467,  -0.3074,-0.0688,  0.4170],\n",
    "       \"C6H4_C5NH3\":[-7.75876,-7.73804,-7.03079,-6.17319,-5.71742,-5.20198,-1.88101,-1.33702,-0.85600,-0.59321,-0.19417,-0.01602],\n",
    "        \"C6H4_C5NH3a\":[-7.85219, -7.43046,-6.83082, -6.39979,-6.06896,-5.32907,-2.44070,-1.75735,-0.74325,-0.68806,-0.23493,-0.02304],\n",
    "        \"C5NH3_C5NH3\":[-7.87580,-7.08429,-7.01230,-6.68117,-5.32006,-5.26541,-1.81577,-1.68893,-1.38401,-0.42774,-0.23462,-0.03888],\n",
    "        \"C5NH3_C5NH3a\":[-7.97772,-7.47116,-7.04215,-6.56109,-5.39689,-5.31662,-2.02018,-1.61849,-1.50262,-0.75659,-0.09366,0.00465],\n",
    "        \"C5NH3a_C5NH3a\":[]\n",
    "       }\n",
    "\n",
    "E_ts_s = {\"C6H4_C6H4\":E_t1,\n",
    "         \"C6H4_C5NH3\":E_t2,\n",
    "         \"C6H4_C5NH3a\":E_t3,\n",
    "         \"C5NH3_C5NH3\":E_t4,\n",
    "         \"C5NH3_C5NH3a\":E_t5}\n",
    "\n",
    "E_ts_c = {\"C6H4_C6H4\":E_t1b,\n",
    "         \"C6H4_C5NH3\":E_t2b,\n",
    "         \"C6H4_C5NH3a\":E_t3b,\n",
    "         \"C5NH3_C5NH3\":E_t4b,\n",
    "         \"C5NH3_C5NH3a\":E_t5b}\n",
    "\n"
   ]
  },
  {
   "cell_type": "markdown",
   "id": "8d4be3c8",
   "metadata": {},
   "source": [
    "## C6H4_C6H4, 1D"
   ]
  },
  {
   "cell_type": "code",
   "execution_count": 29,
   "id": "7583ccb1",
   "metadata": {},
   "outputs": [
    {
     "name": "stdout",
     "output_type": "stream",
     "text": [
      "-6.769 -1.846     14.81092317201734\n",
      "-6.769 -0.615     14.652160868285597\n",
      "-6.154 -2.462     14.514581635645436\n",
      "-6.154 -1.846     13.286219011502157\n",
      "-5.538 -1.846     11.948746521382589\n",
      "-4.923 -2.462     12.339355456245169\n",
      "-4.923 -1.231     10.255138458102579\n",
      "-4.308 -1.846     10.126039267300081\n",
      "-4.308 -1.231     9.465426952779515\n",
      "-4.308 -0.615     9.892373029037195\n",
      "-3.692 -1.846     9.800605656942999\n",
      "-3.692 -1.231     9.116441597378051\n"
     ]
    }
   ],
   "source": [
    "# 1d C6H4_C6H4 simple\n",
    "E_d = [-7.6850,  -7.6417, -7.1514,  -6.3527,  -5.7582, -5.1511,  -1.7408,  -0.7443,  -0.5467,  -0.3074,\n",
    "       -0.0688,  0.4170]\n",
    "\n",
    "\n",
    "min_err = 15\n",
    "for cc in np.linspace(-8,0,14):\n",
    "    for tcc in np.linspace(-8,0,14):\n",
    "            x = [cc, tcc]\n",
    "            H = get_simple_ham_C6H4_C6H4(cc, tcc)\n",
    "            opt = minimize(f, x, args=(H,E_ds['C6H4_C6H4']), method='Nelder-Mead')\n",
    "            if opt.fun < min_err + .5:\n",
    "                min_err = opt.fun\n",
    "                print(round(cc,3), round(tcc,3), \"   \", opt.fun)\n",
    "                E_t1 = test_H(opt.x,H)\n",
    "                E_t1.sort()\n",
    "\n",
    "\n",
    "\n",
    "#                    np.linalg.norm(np.subtract(E_d,E_t))\n",
    "#                     for i in range(len(E_d)):\n",
    "#                         print(round(E_d[i],3), \"   \",round(E_t[i],3))\n",
    "        #         elif abs(opt.fun - min_err) < .5:\n",
    "        #             print(round(cc,3),round(tcc,3), \"   \", opt.fun, 'nl')\n",
    "\n",
    "\n"
   ]
  },
  {
   "cell_type": "code",
   "execution_count": null,
   "id": "b26ecba1",
   "metadata": {},
   "outputs": [],
   "source": [
    "E_t"
   ]
  },
  {
   "cell_type": "code",
   "execution_count": 30,
   "id": "d065f4e0",
   "metadata": {},
   "outputs": [
    {
     "name": "stdout",
     "output_type": "stream",
     "text": [
      "-6.0 -6.0 -2.734 -1.658     14.333570529330354\n",
      "-6.0 -6.0 -2.734 -0.572     14.323755919877385\n",
      "-6.0 -6.0 -1.645 -2.743     10.233424722552485\n",
      "-6.0 -6.0 -0.556 -2.743     10.04001350195836\n",
      "-6.0 -4.909 -0.556 -0.572     9.88149336557291\n",
      "-6.0 -3.818 -3.822 -1.658     9.526335482665617\n",
      "-6.0 -3.818 -2.734 -1.658     9.030783939136393\n",
      "-6.0 -3.818 -1.645 -0.572     7.888353198290736\n",
      "-6.0 -3.818 -0.556 -2.743     6.491503610292928\n",
      "-6.0 -3.818 -0.556 -1.658     5.425715720152701\n",
      "-6.0 -2.727 -2.734 -1.658     5.2008997924023435\n",
      "-6.0 -2.727 -1.645 -1.658     4.53215575716205\n",
      "-6.0 -2.727 -0.556 -1.658     4.177511767937554\n",
      "-6.0 -1.636 -0.556 -1.658     4.556922210717694\n",
      "-4.909 -2.727 -0.556 -1.658     4.2364075766596025\n"
     ]
    }
   ],
   "source": [
    "min_err = 15\n",
    "for cc in np.linspace(-6,-.543,6):\n",
    "    for ch in np.linspace(-6,-.545,6):\n",
    "        for tcc in np.linspace(-6,-.556,6):\n",
    "            for tch in np.linspace(-6,-.572,6):\n",
    "                x = [cc, ch, tcc, tch]\n",
    "                H = get_complex_ham_C6H4_C6H4(cc, ch, tcc, tch)\n",
    "                opt = minimize(f, x, args=(H, E_ds['C6H4_C6H4']), method='Nelder-Mead')\n",
    "                if opt.fun < min_err + .5:\n",
    "                    min_err = opt.fun\n",
    "                    print(round(cc,3), round(ch,3), round(tcc,3), round(tch,3), \"   \", opt.fun)\n",
    "                    E_t1b = test_H(opt.x, H)\n",
    "                    E_t1b.sort()"
   ]
  },
  {
   "cell_type": "markdown",
   "id": "f83a3b3c",
   "metadata": {},
   "source": [
    "## C6H4_C5NH3, 1D"
   ]
  },
  {
   "cell_type": "code",
   "execution_count": 20,
   "id": "f5521cdb",
   "metadata": {},
   "outputs": [],
   "source": [
    "def get_simple_ham_C6H4_C5NH3(cc,tcc,cn,tcn):\n",
    "    return np.array([\n",
    "        np.array([cc,tcc,0,0,0,tcc,tcc,0,0,0,0,0]), # 1\n",
    "        np.array([tcc,cc,tcc,0,0,0,0,0,0,0,0,0]),   # 2\n",
    "        np.array([0,tcc,cc,tcc,0,0,0,0,tcc,0,0,0]), # 3\n",
    "        np.array([0,0,tcc,cc,tcc,0,0,0,0,0,0,0]),   # 4\n",
    "        np.array([0,0,0,tcc,cc,tcc,0,0,0,0,0,0]),   # 5\n",
    "        np.array([tcc,0,0,0,tcc,cc,0,0,0,0,0,0]),   # 6\n",
    "        np.array([tcc,0,0,0,0,0,cc,tcn,0,0,0,tcc]), # 7\n",
    "        np.array([0,0,0,0,0,0,tcn,cn,tcn,0,0,0]),   # 8\n",
    "        np.array([0,0,tcc,0,0,0,0,tcn,cc,tcc,0,0]), # 9\n",
    "        np.array([0,0,0,0,0,0,0,0,tcc,cc,tcc,0]),   # 10\n",
    "        np.array([0,0,0,0,0,0,0,0,0,tcc,cc,tcc]),   # 11\n",
    "        np.array([0,0,0,0,0,0,tcc,0,0,0,tcc,cc])    # 12\n",
    "    ])\n",
    "\n",
    "def get_complex_ham_C6H4_C5NH3(cc, ch, tcc, tch,cn,tcn):\n",
    "    return  np.array([\n",
    "        np.array([cc,tch,0,0,0,tch,tcc,0,0,0,0,0]), # 1\n",
    "        np.array([tch,ch,tch,0,0,0,0,0,0,0,0,0]),   # 2\n",
    "        np.array([0,tch,cc,tch,0,0,0,0,tcc,0,0,0]), # 3\n",
    "        np.array([0,0,tch,ch,tch,0,0,0,0,0,0,0]),   # 4\n",
    "        np.array([0,0,0,tch,ch,tch,0,0,0,0,0,0]),   # 5\n",
    "        np.array([tch,0,0,0,tch,ch,0,0,0,0,0,0]),   # 6\n",
    "        np.array([tcc,0,0,0,0,0,cc,tcn,0,0,0,tch]), # 7\n",
    "        np.array([0,0,0,0,0,0,tcn,cn,tcn,0,0,0]),   # 8\n",
    "        np.array([0,0,tcc,0,0,0,0,tcn,cc,tch,0,0]), # 9\n",
    "        np.array([0,0,0,0,0,0,0,0,tch,ch,tch,0]),   # 10\n",
    "        np.array([0,0,0,0,0,0,0,0,0,tch,ch,tch]),   # 11\n",
    "        np.array([0,0,0,0,0,0,tch,0,0,0,tch,ch])    # 12\n",
    "    ])"
   ]
  },
  {
   "cell_type": "code",
   "execution_count": 31,
   "id": "d4c89762",
   "metadata": {},
   "outputs": [
    {
     "name": "stdout",
     "output_type": "stream",
     "text": [
      "-6.0 -3.833 -1.674 -0.511     15.364148731081606\n",
      "-6.0 -3.833 -0.592 -0.511     14.34922143525623\n",
      "-6.0 -2.75 -6.0 -2.707     14.804983662162467\n",
      "-6.0 -2.75 -6.0 -1.609     14.480696402207501\n",
      "-6.0 -2.75 -4.918 -1.609     14.176733878126685\n",
      "-6.0 -2.75 -4.918 -0.511     14.374479124699013\n",
      "-6.0 -2.75 -3.837 -1.609     12.252954462644256\n",
      "-6.0 -2.75 -2.755 -0.511     11.14195429811004\n",
      "-6.0 -2.75 -1.674 -0.511     10.850918926925395\n",
      "-6.0 -2.75 -0.592 -0.511     8.338284735734527\n",
      "-4.902 -1.666 -3.837 -0.511     8.02253018452487\n",
      "-4.902 -1.666 -2.755 -0.511     7.4072536556449196\n",
      "-4.902 -1.666 -1.674 -0.511     7.103448581057023\n",
      "-3.804 -1.666 -4.918 -1.609     4.700476879811783\n"
     ]
    }
   ],
   "source": [
    "E_d_C6H4_C5NH3 = [-7.75876,-7.73804,-7.03079,-6.17319,-5.71742,-5.20198,\n",
    "                 -1.88101,-1.33702,-0.85600,-0.59321,-0.19417,-0.01602]\n",
    "min_err = 15\n",
    "for cc in np.linspace(-6,-.51,6):\n",
    "    for tcc in np.linspace(-6,-.583,6):\n",
    "        for cn in np.linspace(-6,-.592,6):\n",
    "            for tcn in np.linspace(-6,-.511,6):\n",
    "                x = [cc, tcc, cn, tcn]\n",
    "                H = get_simple_ham_C6H4_C5NH3(cc, tcc, cn, tcn)\n",
    "                opt = minimize(f, x, args=(H,E_ds['C6H4_C5NH3']),\n",
    "                               method='Nelder-Mead')\n",
    "                if opt.fun < min_err + .5:\n",
    "                    min_err = opt.fun\n",
    "                    print(round(cc,3), round(tcc,3),round(cn,3),round(tcn,3), \"   \", opt.fun)\n",
    "                    E_t2 = test_H(opt.x,H)\n",
    "                    E_t2.sort()"
   ]
  },
  {
   "cell_type": "code",
   "execution_count": 32,
   "id": "b5b92842",
   "metadata": {},
   "outputs": [
    {
     "name": "stdout",
     "output_type": "stream",
     "text": [
      "-6.0 -4.635 -3.266 -1.906 -0.533 -0.516     5.418036488170919\n",
      "-6.0 -4.635 -1.898 -1.906 -1.9 -0.516     4.822230265017766\n",
      "-6.0 -4.635 -0.531 -1.906 -1.9 -0.516     4.444226729686816\n",
      "-6.0 -3.27 -3.266 -1.906 -0.533 -0.516     4.297156261644553\n",
      "-6.0 -3.27 -1.898 -1.906 -1.9 -0.516     4.341650158196619\n",
      "-6.0 -3.27 -1.898 -1.906 -0.533 -0.516     3.3243568960731222\n",
      "-6.0 -3.27 -0.531 -1.906 -0.533 -0.516     1.9226888577005794\n",
      "-4.635 -3.27 -0.531 -1.906 -0.533 -0.516     2.0749126633372046\n"
     ]
    }
   ],
   "source": [
    "min_err = 7\n",
    "for cc in np.linspace(-6,-0.541,5):\n",
    "    for ch in np.linspace(-6,-0.54,5):\n",
    "        for tcc in np.linspace(-6,-0.531,5):\n",
    "            for tch in np.linspace(-6,-.542,5):\n",
    "                for cn in np.linspace(-6,-.533,5):\n",
    "                    for tcn in np.linspace(-6,-.516,5):\n",
    "                        x = [cc, ch, tcc, tch,cn,tcn]\n",
    "                        H = get_complex_ham_C6H4_C5NH3(cc, ch, tcc, tch,cn,tcn)\n",
    "                        opt = minimize(f, x, args=(H,E_ds['C6H4_C5NH3']),\n",
    "                                       method='Nelder-Mead')\n",
    "                        if opt.fun < min_err + .5:\n",
    "                            min_err = opt.fun\n",
    "                            print(round(cc,3), round(ch,3),round(tcc,3),\n",
    "                                  round(tch,3),round(cn,3),round(tcn,3), \"   \", opt.fun)\n",
    "                            E_t2b = test_H(opt.x,H)\n",
    "                            E_t2b.sort()"
   ]
  },
  {
   "cell_type": "markdown",
   "id": "e3212286",
   "metadata": {},
   "source": [
    "## C6H4_C5NH3a, 1D"
   ]
  },
  {
   "cell_type": "code",
   "execution_count": 33,
   "id": "97920a34",
   "metadata": {},
   "outputs": [],
   "source": [
    "def get_simple_ham_C6H4_C5NH3a(cc,tcc,cn,tcn):\n",
    "    return np.array([\n",
    "        np.array([cc,tcc,0,0,0,tcc,tcc,0,0,0,0,0]), # 1\n",
    "        np.array([tcc,cc,tcc,0,0,0,0,0,0,0,0,0]),   # 2\n",
    "        np.array([0,tcc,cc,tcc,0,0,0,0,tcc,0,0,0]), # 3\n",
    "        np.array([0,0,tcc,cc,tcc,0,0,0,0,0,0,0]),   # 4\n",
    "        np.array([0,0,0,tcc,cc,tcc,0,0,0,0,0,0]),   # 5\n",
    "        np.array([tcc,0,0,0,tcc,cc,0,0,0,0,0,0]),   # 6\n",
    "        np.array([tcc,0,0,0,0,0,cc,tcc,0,0,0,tcc]), # 7\n",
    "        np.array([0,0,0,0,0,0,tcc,cc,tcc,0,0,0]),   # 8\n",
    "        np.array([0,0,tcc,0,0,0,0,tcc,cc,tcc,0,0]), # 9\n",
    "        np.array([0,0,0,0,0,0,0,0,tcc,cc,tcn,0]),   # 10\n",
    "        np.array([0,0,0,0,0,0,0,0,0,tcn,cn,tcn]),   # 11\n",
    "        np.array([0,0,0,0,0,0,tcc,0,0,0,tcn,cc])    # 12\n",
    "    ])\n",
    "\n",
    "def get_complex_ham_C6H4_C5NH3a(cc, ch, tcc, tch,cn,tcn):\n",
    "    return  np.array([\n",
    "        np.array([cc,tch,0,0,0,tch,tcc,0,0,0,0,0]), # 1\n",
    "        np.array([tch,ch,tch,0,0,0,0,0,0,0,0,0]),   # 2\n",
    "        np.array([0,tch,cc,tch,0,0,0,0,tcc,0,0,0]), # 3\n",
    "        np.array([0,0,tch,ch,tch,0,0,0,0,0,0,0]),   # 4\n",
    "        np.array([0,0,0,tch,ch,tch,0,0,0,0,0,0]),   # 5\n",
    "        np.array([tch,0,0,0,tch,ch,0,0,0,0,0,0]),   # 6\n",
    "        np.array([tcc,0,0,0,0,0,cc,tch,0,0,0,tch]), # 7\n",
    "        np.array([0,0,0,0,0,0,tch,ch,tch,0,0,0]),   # 8\n",
    "        np.array([0,0,tcc,0,0,0,0,tch,cc,tch,0,0]), # 9\n",
    "        np.array([0,0,0,0,0,0,0,0,tch,ch,tcn,0]),   # 10\n",
    "        np.array([0,0,0,0,0,0,0,0,0,tcn,cn,tcn]),   # 11\n",
    "        np.array([0,0,0,0,0,0,tch,0,0,0,tcn,ch])    # 12\n",
    "    ])"
   ]
  },
  {
   "cell_type": "code",
   "execution_count": 34,
   "id": "ccd4a1bb",
   "metadata": {
    "collapsed": true
   },
   "outputs": [
    {
     "name": "stdout",
     "output_type": "stream",
     "text": [
      "-6.0 -3.804 -2.701 -4.901     14.74916732851997\n",
      "-6.0 -2.705 -6.0 -2.702     14.134643708809415\n",
      "-6.0 -2.705 -6.0 -1.603     13.973322543965514\n",
      "-6.0 -2.705 -4.9 -0.504     14.210045116708494\n",
      "-6.0 -2.705 -3.8 -0.504     13.887502413326088\n",
      "-6.0 -2.705 -2.701 -0.504     13.64793822859711\n",
      "-6.0 -2.705 -1.601 -0.504     13.0140545273682\n",
      "-6.0 -2.705 -0.501 -0.504     12.871368190412044\n",
      "-6.0 -1.607 -4.9 -3.802     13.010152745107888\n",
      "-6.0 -1.607 -4.9 -2.702     11.925501884897296\n",
      "-6.0 -1.607 -4.9 -0.504     11.802381344707996\n",
      "-6.0 -1.607 -3.8 -0.504     10.454607225850824\n",
      "-4.903 -1.607 -6.0 -1.603     9.747882956965311\n",
      "-4.903 -1.607 -4.9 -2.702     9.95878692699235\n",
      "-4.903 -1.607 -3.8 -2.702     10.079064017555345\n",
      "-4.903 -1.607 -3.8 -0.504     9.931687223753908\n",
      "-4.903 -1.607 -2.701 -0.504     8.429735637828427\n",
      "-3.805 -1.607 -6.0 -1.603     8.411456419103578\n",
      "-3.805 -1.607 -4.9 -1.603     8.857664155995169\n",
      "-3.805 -1.607 -3.8 -2.702     8.69616369728644\n",
      "-3.805 -1.607 -1.601 -0.504     8.658073356845376\n",
      "-3.805 -0.509 -6.0 -0.504     8.556398287884472\n",
      "-3.805 -0.509 -4.9 -0.504     8.74738601655407\n",
      "-2.708 -0.509 -6.0 -0.504     8.872248438917177\n"
     ]
    }
   ],
   "source": [
    "min_err = 15\n",
    "for cc in np.linspace(-6,-0.513,6):\n",
    "    for tcc in np.linspace(-6,-.509,6):\n",
    "        for cn in np.linspace(-6,-.501,6):\n",
    "            for tcn in np.linspace(-6,-.504,6):\n",
    "                x = [cc, tcc, cn, tcn]\n",
    "                H = get_simple_ham_C6H4_C5NH3a(cc, tcc, cn, tcn)\n",
    "                opt = minimize(f, x, args=(H,E_ds['C6H4_C5NH3a']),\n",
    "                               method='Nelder-Mead')\n",
    "                if opt.fun < min_err + .5:\n",
    "                    if opt.fun < min_err:\n",
    "                        min_err = opt.fun\n",
    "                    print(round(cc,3), round(tcc,3),round(cn,3),round(tcn,3), \"   \", opt.fun)\n",
    "                    E_t3 = test_H(opt.x,H)\n",
    "                    E_t3.sort()"
   ]
  },
  {
   "cell_type": "code",
   "execution_count": 38,
   "id": "c0b547ec",
   "metadata": {
    "collapsed": true
   },
   "outputs": [
    {
     "name": "stdout",
     "output_type": "stream",
     "text": [
      "-6.0 -6.0 -4.59 -3.155 -0.32 -0.33     14.65915081451427\n",
      "-6.0 -6.0 -4.59 -0.31 -6.0 -0.33     14.943018767855513\n",
      "-6.0 -6.0 -3.18 -3.155 -1.74 -1.748     13.286485174791315\n",
      "-6.0 -6.0 -3.18 -3.155 -0.32 -0.33     12.6955436421641\n",
      "-6.0 -6.0 -1.77 -3.155 -1.74 -3.165     10.711363316370225\n",
      "-6.0 -6.0 -1.77 -3.155 -1.74 -1.748     9.900740723836936\n",
      "-6.0 -6.0 -1.77 -1.732 -3.16 -0.33     9.802366802327041\n",
      "-6.0 -6.0 -1.77 -1.732 -1.74 -0.33     10.113958854755122\n",
      "-6.0 -6.0 -0.36 -3.155 -3.16 -1.748     9.732662018745694\n",
      "-6.0 -6.0 -0.36 -3.155 -1.74 -1.748     9.589421773614818\n",
      "-6.0 -6.0 -0.36 -1.732 -3.16 -0.33     9.933784972690708\n",
      "-6.0 -4.588 -3.18 -1.732 -6.0 -1.748     9.881904542290089\n",
      "-6.0 -4.588 -3.18 -1.732 -4.58 -1.748     9.545432617217655\n",
      "-6.0 -4.588 -3.18 -1.732 -1.74 -0.33     9.757941256353751\n",
      "-6.0 -4.588 -1.77 -3.155 -6.0 -3.165     9.41028090991828\n",
      "-6.0 -4.588 -1.77 -3.155 -1.74 -1.748     8.388588717688426\n",
      "-6.0 -4.588 -1.77 -1.732 -1.74 -0.33     8.264486522541565\n",
      "-6.0 -4.588 -1.77 -1.732 -0.32 -0.33     8.491552423380268\n",
      "-6.0 -4.588 -0.36 -3.155 -6.0 -1.748     8.729684987385028\n",
      "-6.0 -4.588 -0.36 -3.155 -4.58 -1.748     8.39715103085881\n",
      "-6.0 -4.588 -0.36 -3.155 -3.16 -1.748     8.138871236386699\n",
      "-6.0 -4.588 -0.36 -3.155 -1.74 -1.748     8.066298432284194\n",
      "-6.0 -4.588 -0.36 -1.732 -6.0 -3.165     6.889011192800917\n",
      "-6.0 -4.588 -0.36 -1.732 -6.0 -1.748     6.519469060713126\n",
      "-6.0 -4.588 -0.36 -1.732 -4.58 -1.748     6.162173530839487\n",
      "-6.0 -3.175 -3.18 -1.732 -4.58 -1.748     5.366183535681616\n",
      "-6.0 -3.175 -1.77 -1.732 -6.0 -3.165     5.649509397017305\n",
      "-6.0 -3.175 -1.77 -1.732 -6.0 -1.748     4.8075372972111605\n",
      "-6.0 -3.175 -1.77 -1.732 -4.58 -1.748     4.732408141078739\n",
      "-6.0 -3.175 -1.77 -1.732 -3.16 -1.748     4.945850536356715\n",
      "-6.0 -3.175 -0.36 -1.732 -6.0 -1.748     4.568571041107298\n",
      "-6.0 -3.175 -0.36 -1.732 -4.58 -1.748     4.560319693995147\n",
      "-6.0 -3.175 -0.36 -1.732 -3.16 -1.748     4.487422022729942\n",
      "-6.0 -1.762 -1.77 -1.732 -6.0 -1.748     4.94301447019029\n",
      "-6.0 -1.762 -1.77 -1.732 -4.58 -1.748     4.9783287362430535\n",
      "-6.0 -1.762 -0.36 -1.732 -6.0 -1.748     4.511532584325538\n",
      "-6.0 -1.762 -0.36 -1.732 -4.58 -1.748     4.531834895499118\n",
      "-6.0 -1.762 -0.36 -1.732 -3.16 -1.748     4.8040606150930225\n",
      "-6.0 -1.762 -0.36 -0.31 -6.0 -0.33     4.776686119065281\n",
      "-4.585 -3.175 -0.36 -1.732 -6.0 -3.165     4.9533806447439686\n",
      "-4.585 -3.175 -0.36 -1.732 -6.0 -1.748     4.364695668907811\n",
      "-4.585 -3.175 -0.36 -1.732 -4.58 -1.748     4.511950216770949\n",
      "-4.585 -3.175 -0.36 -1.732 -3.16 -1.748     4.455655178926117\n",
      "-3.17 -3.175 -0.36 -1.732 -6.0 -1.748     4.861615317090123\n"
     ]
    }
   ],
   "source": [
    "min_err = 15\n",
    "for cc in np.linspace(-6,-0.34,5):\n",
    "    for ch in np.linspace(-6,-0.35,5):\n",
    "        for tcc in np.linspace(-6,-0.36,5):\n",
    "            for tch in np.linspace(-6,-0.31,5):\n",
    "                for cn in np.linspace(-6,-0.32,5):\n",
    "                    for tcn in np.linspace(-6,-0.33,5):\n",
    "                        x = [cc, ch, tcc, tch,cn,tcn]\n",
    "                        H = get_complex_ham_C6H4_C5NH3a(cc, ch, tcc, tch,cn,tcn)\n",
    "                        opt = minimize(f, x, args=(H,E_ds['C6H4_C5NH3a']),\n",
    "                                       method='Nelder-Mead')\n",
    "                        if opt.fun < min_err + .5:\n",
    "                            if opt.fun < min_err:\n",
    "                                min_err = opt.fun\n",
    "                            print(round(cc,3), round(ch,3),round(tcc,3),\n",
    "                                  round(tch,3),round(cn,3),round(tcn,3), \"   \", opt.fun)\n",
    "                            E_t3b = test_H(opt.x,H)\n",
    "                            E_t3b.sort()"
   ]
  },
  {
   "cell_type": "markdown",
   "id": "e614ff62",
   "metadata": {},
   "source": [
    "## C5NH3_C5NH3, 1D"
   ]
  },
  {
   "cell_type": "code",
   "execution_count": 39,
   "id": "dcd58a63",
   "metadata": {},
   "outputs": [],
   "source": [
    "def get_simple_ham_C5NH3_C5NH3(cc,tcc,cN,tcN):\n",
    "    return np.array([\n",
    "        np.array([cc,tcN,0,0,0,tcc,tcc,0,0,0,0,0]), # 1\n",
    "        np.array([tcN,cN,tcN,0,0,0,0,0,0,0,0,0]),   # 2\n",
    "        np.array([0,tcN,cc,tcc,0,0,0,0,tcc,0,0,0]), # 3\n",
    "        np.array([0,0,tcc,cc,tcc,0,0,0,0,0,0,0]),   # 4\n",
    "        np.array([0,0,0,tcc,cc,tcc,0,0,0,0,0,0]),   # 5\n",
    "        np.array([tcc,0,0,0,tcc,cc,0,0,0,0,0,0]),   # 6\n",
    "        np.array([tcc,0,0,0,0,0,cc,tcN,0,0,0,tcc]), # 7\n",
    "        np.array([0,0,0,0,0,0,tcN,cN,tcN,0,0,0]),   # 8\n",
    "        np.array([0,0,tcc,0,0,0,0,tcN,cc,tcc,0,0]), # 9\n",
    "        np.array([0,0,0,0,0,0,0,0,tcc,cc,tcc,0]),   # 10\n",
    "        np.array([0,0,0,0,0,0,0,0,0,tcc,cc,tcc]),   # 11\n",
    "        np.array([0,0,0,0,0,0,tcc,0,0,0,tcc,cc])    # 12\n",
    "    ])\n",
    "\n",
    "def get_complex_ham_C5NH3_C5NH3(cc, ch, tcc, tch,cN,tcN):\n",
    "    return  np.array([\n",
    "        np.array([cc,tcN,0,0,0,tch,tcc,0,0,0,0,0]), # 1\n",
    "        np.array([tcN,cN,tcN,0,0,0,0,0,0,0,0,0]),   # 2\n",
    "        np.array([0,tcN,cc,tch,0,0,0,0,tcc,0,0,0]), # 3\n",
    "        np.array([0,0,tch,ch,tch,0,0,0,0,0,0,0]),   # 4\n",
    "        np.array([0,0,0,tch,ch,tch,0,0,0,0,0,0]),   # 5\n",
    "        np.array([tch,0,0,0,tch,ch,0,0,0,0,0,0]),   # 6\n",
    "        np.array([tcc,0,0,0,0,0,cc,tcN,0,0,0,tch]), # 7\n",
    "        np.array([0,0,0,0,0,0,tcN,cN,tcN,0,0,0]),   # 8\n",
    "        np.array([0,0,tcc,0,0,0,0,tcN,cc,tch,0,0]), # 9\n",
    "        np.array([0,0,0,0,0,0,0,0,tch,ch,tch,0]),   # 10\n",
    "        np.array([0,0,0,0,0,0,0,0,0,tch,ch,tch]),   # 11\n",
    "        np.array([0,0,0,0,0,0,tch,0,0,0,tch,ch])    # 12\n",
    "    ])"
   ]
  },
  {
   "cell_type": "code",
   "execution_count": 40,
   "id": "655892b2",
   "metadata": {},
   "outputs": [
    {
     "name": "stdout",
     "output_type": "stream",
     "text": [
      "-8.0 -3.502 -2.006 -0.511     14.309647933269352\n",
      "-8.0 -3.502 -0.507 -0.511     14.302318536041263\n",
      "-8.0 -2.002 -5.003 -0.511     13.556092761377217\n",
      "-8.0 -2.002 -3.504 -0.511     12.860271110194684\n",
      "-6.503 -3.502 -6.501 -2.009     13.292551723763697\n",
      "-6.503 -3.502 -3.504 -2.009     11.72959245623945\n",
      "-6.503 -3.502 -0.507 -0.511     10.69257070838138\n",
      "-6.503 -2.002 -3.504 -0.511     8.68134363867837\n",
      "-6.503 -2.002 -2.006 -0.511     8.122284349690993\n",
      "-5.005 -2.002 -3.504 -0.511     7.936521522200167\n",
      "-5.005 -2.002 -2.006 -0.511     4.559731338167849\n",
      "-5.005 -2.002 -0.507 -0.511     4.514839659278939\n",
      "-3.508 -2.002 -0.507 -0.511     4.4770434975143685\n"
     ]
    }
   ],
   "source": [
    "min_err = 15\n",
    "for cc in np.linspace(-8,-.513,6):\n",
    "    for tcc in np.linspace(-8,-.503,6):\n",
    "        for cn in np.linspace(-8,-.507,6):\n",
    "            for tcn in np.linspace(-8,-.511,6):\n",
    "                x = [cc, tcc, cn, tcn]\n",
    "                H = get_simple_ham_C5NH3_C5NH3(cc, tcc, cn, tcn)\n",
    "                opt = minimize(f, x, args=(H,E_ds['C5NH3_C5NH3']),\n",
    "                               method='Nelder-Mead')\n",
    "                if opt.fun < min_err + .5:\n",
    "                    if opt.fun < min_err:\n",
    "                        min_err = opt.fun\n",
    "                    print(round(cc,3), round(tcc,3),round(cn,3),round(tcn,3), \"   \", opt.fun)\n",
    "                    E_t4 = test_H(opt.x,H)\n",
    "                    E_t4.sort()"
   ]
  },
  {
   "cell_type": "code",
   "execution_count": 41,
   "id": "1e5eae11",
   "metadata": {},
   "outputs": [
    {
     "name": "stdout",
     "output_type": "stream",
     "text": [
      "-6.0 -6.0 -6.0 -3.252 -1.875 -0.512     13.651942770930354\n",
      "-6.0 -6.0 -6.0 -3.252 -0.5 -0.512     11.55980909216173\n",
      "-6.0 -6.0 -6.0 -1.877 -0.5 -0.512     8.544086065301109\n",
      "-6.0 -6.0 -4.625 -1.877 -1.875 -0.512     7.883998873625032\n",
      "-6.0 -6.0 -4.625 -1.877 -0.5 -0.512     6.933743182860564\n",
      "-6.0 -6.0 -3.25 -1.877 -1.875 -0.512     6.487350131098211\n",
      "-6.0 -6.0 -3.25 -1.877 -0.5 -0.512     6.738531624209855\n",
      "-6.0 -6.0 -1.874 -1.877 -1.875 -0.512     6.72478603472817\n",
      "-6.0 -6.0 -0.499 -1.877 -1.875 -0.512     6.132523859104003\n",
      "-6.0 -4.62 -4.625 -1.877 -0.5 -0.512     5.997609086541113\n",
      "-6.0 -4.62 -3.25 -1.877 -1.875 -0.512     5.245914590565191\n",
      "-6.0 -4.62 -3.25 -1.877 -0.5 -0.512     5.196871580695251\n",
      "-6.0 -4.62 -1.874 -1.877 -3.25 -1.884     5.458111896029308\n",
      "-6.0 -4.62 -1.874 -1.877 -1.875 -0.512     4.4114625782633805\n",
      "-6.0 -4.62 -1.874 -1.877 -0.5 -0.512     4.026537772780844\n",
      "-6.0 -4.62 -0.499 -1.877 -1.875 -0.512     3.759929078125552\n",
      "-6.0 -4.62 -0.499 -1.877 -0.5 -0.512     3.4680758990653717\n",
      "-6.0 -3.24 -1.874 -1.877 -0.5 -0.512     2.9830111898072\n",
      "-6.0 -3.24 -0.499 -1.877 -0.5 -0.512     1.7795468005451973\n"
     ]
    }
   ],
   "source": [
    "min_err = 15\n",
    "for cc in np.linspace(-6,-.493,5):\n",
    "    for ch in np.linspace(-6,-.481,5):\n",
    "        for tcc in np.linspace(-6,-.499,5):\n",
    "            for tch in np.linspace(-6,-.503,5):\n",
    "                for cn in np.linspace(-6,-.5,5):\n",
    "                    for tcn in np.linspace(-6,-.512,5):\n",
    "                        x = [cc, ch, tcc, tch,cn,tcn]\n",
    "                        H = get_complex_ham_C5NH3_C5NH3(cc, ch, tcc, tch,cn,tcn)\n",
    "                        opt = minimize(f, x, args=(H,E_ds['C5NH3_C5NH3']),\n",
    "                                       method='Nelder-Mead')\n",
    "                        if opt.fun < min_err + .5:\n",
    "                            if opt.fun < min_err:\n",
    "                                min_err = opt.fun\n",
    "                            print(round(cc,3), round(ch,3),round(tcc,3),\n",
    "                                  round(tch,3),round(cn,3),round(tcn,3), \"   \", opt.fun)\n",
    "                            E_t4b = test_H(opt.x,H)\n",
    "                            E_t4b.sort()"
   ]
  },
  {
   "cell_type": "markdown",
   "id": "0b26954a",
   "metadata": {},
   "source": [
    "## C5NH3_C5NH3a, 1D"
   ]
  },
  {
   "cell_type": "code",
   "execution_count": 42,
   "id": "1a145247",
   "metadata": {},
   "outputs": [],
   "source": [
    "def get_simple_ham_C5NH3_C5NH3a(cc,tcc,cN,tcN):\n",
    "    return np.array([\n",
    "        np.array([cc,tcN,0,0,0,tcc,tcc,0,0,0,0,0]), # 1\n",
    "        np.array([tcN,cN,tcN,0,0,0,0,0,0,0,0,0]),   # 2\n",
    "        np.array([0,tcN,cc,tcc,0,0,0,0,tcc,0,0,0]), # 3\n",
    "        np.array([0,0,tcc,cc,tcc,0,0,0,0,0,0,0]),   # 4\n",
    "        np.array([0,0,0,tcc,cc,tcc,0,0,0,0,0,0]),   # 5\n",
    "        np.array([tcc,0,0,0,tcc,cc,0,0,0,0,0,0]),   # 6\n",
    "        np.array([tcc,0,0,0,0,0,cc,tcc,0,0,0,tcc]), # 7\n",
    "        np.array([0,0,0,0,0,0,tcc,cc,tcc,0,0,0]),   # 8\n",
    "        np.array([0,0,tcc,0,0,0,0,tcc,cc,tcc,0,0]), # 9\n",
    "        np.array([0,0,0,0,0,0,0,0,tcc,cc,tcN,0]),   # 10\n",
    "        np.array([0,0,0,0,0,0,0,0,0,tcN,cN,tcN]),   # 11\n",
    "        np.array([0,0,0,0,0,0,tcc,0,0,0,tcN,cc])    # 12\n",
    "    ])\n",
    "\n",
    "def get_complex_ham_C5NH3_C5NH3a(cc, ch, tcc, tch,cN,tcN):\n",
    "    return  np.array([\n",
    "        np.array([cc,tcN,0,0,0,tch,tcc,0,0,0,0,0]), # 1\n",
    "        np.array([tcN,cN,tcN,0,0,0,0,0,0,0,0,0]),   # 2\n",
    "        np.array([0,tcN,cc,tch,0,0,0,0,tcc,0,0,0]), # 3\n",
    "        np.array([0,0,tch,ch,tch,0,0,0,0,0,0,0]),   # 4\n",
    "        np.array([0,0,0,tch,ch,tch,0,0,0,0,0,0]),   # 5\n",
    "        np.array([tch,0,0,0,tch,ch,0,0,0,0,0,0]),   # 6\n",
    "        np.array([tcc,0,0,0,0,0,cc,tch,0,0,0,tch]), # 7\n",
    "        np.array([0,0,0,0,0,0,tch,ch,tch,0,0,0]),   # 8\n",
    "        np.array([0,0,tcc,0,0,0,0,tch,cc,tch,0,0]), # 9\n",
    "        np.array([0,0,0,0,0,0,0,0,tch,ch,tcN,0]),   # 10\n",
    "        np.array([0,0,0,0,0,0,0,0,0,tcN,cN,tcN]),   # 11\n",
    "        np.array([0,0,0,0,0,0,tch,0,0,0,tcN,ch])    # 12\n",
    "    ])"
   ]
  },
  {
   "cell_type": "code",
   "execution_count": 117,
   "id": "ea82270c",
   "metadata": {},
   "outputs": [
    {
     "name": "stdout",
     "output_type": "stream",
     "text": [
      "-6.0 -3.805 -3.805 -1.609     15.231012656115228\n",
      "-6.0 -3.805 -2.707 -1.609     14.691788741027473\n",
      "-6.0 -3.805 -1.61 -1.609     14.506555098706404\n",
      "-6.0 -3.805 -1.61 -0.511     14.087705969991235\n",
      "-6.0 -3.805 -0.512 -2.707     12.125705234062771\n",
      "-6.0 -2.708 -3.805 -1.609     8.530888673662915\n",
      "-6.0 -2.708 -1.61 -0.511     6.9858372334130046\n",
      "-6.0 -1.61 -2.707 -0.511     6.757800100521296\n",
      "-4.903 -2.708 -2.707 -1.609     6.26555932504208\n",
      "-4.903 -2.708 -0.512 -0.511     4.991926454935263\n",
      "-4.903 -1.61 -1.61 -0.511     4.119187460088005\n",
      "-3.806 -1.61 -0.512 -0.511     4.142874420512113\n"
     ]
    }
   ],
   "source": [
    "min_err = 15\n",
    "for cc in np.linspace(-6,-.514,6):\n",
    "    for tcc in np.linspace(-6,-.513,6):\n",
    "        for cn in np.linspace(-6,-.512,6):\n",
    "            for tcn in np.linspace(-6,-.511,6):\n",
    "                x = [cc, tcc, cn, tcn]\n",
    "                H = get_simple_ham_C5NH3_C5NH3a(cc, tcc, cn, tcn)\n",
    "                opt = minimize(f, x, args=(H,E_ds['C5NH3_C5NH3a']),\n",
    "                               method='Nelder-Mead')\n",
    "                if opt.fun < min_err + .5:\n",
    "                    if opt.fun < min_err:\n",
    "                        min_err = opt.fun\n",
    "                    print(round(cc,3), round(tcc,3),round(cn,3),round(tcn,3), \"   \", opt.fun)\n",
    "                    E_t5 = test_H(opt.x,H)\n",
    "                    E_t5.sort()"
   ]
  },
  {
   "cell_type": "code",
   "execution_count": 118,
   "id": "baeb3a42",
   "metadata": {},
   "outputs": [
    {
     "name": "stdout",
     "output_type": "stream",
     "text": [
      "-8.0 -8.0 -2.377 -4.255 -0.481 -0.497     14.627056740764045\n",
      "-8.0 -8.0 -2.377 -2.383 -4.24 -0.497     12.892142221423425\n",
      "-8.0 -8.0 -0.503 -2.383 -4.24 -0.497     12.598681067841964\n",
      "-8.0 -6.132 -4.252 -2.383 -2.361 -0.497     10.186992278655623\n",
      "-8.0 -6.132 -2.377 -2.383 -2.361 -0.497     9.044125140839503\n",
      "-8.0 -6.132 -0.503 -2.383 -2.361 -0.497     8.583835215851023\n",
      "-8.0 -4.265 -4.252 -2.383 -0.481 -0.497     8.363796940202345\n",
      "-8.0 -4.265 -2.377 -2.383 -4.24 -2.373     8.636350057558332\n",
      "-8.0 -4.265 -2.377 -2.383 -2.361 -2.373     8.45582411297044\n",
      "-8.0 -4.265 -2.377 -0.51 -6.12 -0.497     8.849296428907614\n",
      "-8.0 -4.265 -2.377 -0.51 -4.24 -0.497     8.626383202155157\n",
      "-8.0 -4.265 -0.503 -2.383 -6.12 -2.373     8.751032194826971\n",
      "-8.0 -4.265 -0.503 -2.383 -4.24 -2.373     7.906085105291629\n",
      "-8.0 -4.265 -0.503 -0.51 -6.12 -0.497     8.288303881043362\n",
      "-8.0 -4.265 -0.503 -0.51 -4.24 -0.497     7.875694708827892\n",
      "-8.0 -2.398 -4.252 -0.51 -8.0 -0.497     8.04825843915989\n",
      "-8.0 -2.398 -4.252 -0.51 -6.12 -0.497     7.892795736691268\n",
      "-8.0 -2.398 -2.377 -2.383 -6.12 -2.373     8.054356235857487\n",
      "-8.0 -2.398 -2.377 -2.383 -4.24 -2.373     7.642437069682208\n",
      "-8.0 -2.398 -2.377 -2.383 -2.361 -2.373     7.7349640103322646\n",
      "-8.0 -2.398 -2.377 -0.51 -8.0 -2.373     7.293234343395316\n",
      "-8.0 -2.398 -2.377 -0.51 -8.0 -0.497     5.776787272596789\n",
      "-8.0 -2.398 -2.377 -0.51 -6.12 -0.497     5.4909490374219825\n",
      "-8.0 -2.398 -2.377 -0.51 -4.24 -0.497     5.806124893332406\n",
      "-8.0 -2.398 -0.503 -0.51 -8.0 -0.497     5.726942465652152\n",
      "-8.0 -2.398 -0.503 -0.51 -6.12 -0.497     4.355132532180347\n",
      "-8.0 -2.398 -0.503 -0.51 -4.24 -0.497     4.458113944525734\n",
      "-8.0 -0.53 -0.503 -0.51 -8.0 -0.497     4.826558183489246\n",
      "-8.0 -0.53 -0.503 -0.51 -6.12 -0.497     3.116728220193067\n",
      "-8.0 -0.53 -0.503 -0.51 -4.24 -0.497     3.340191361785784\n",
      "-6.127 -4.265 -0.503 -2.383 -0.481 -0.497     3.4369870006437973\n",
      "-6.127 -0.53 -0.503 -0.51 -8.0 -0.497     2.549117773900443\n",
      "-4.255 -4.265 -0.503 -2.383 -0.481 -0.497     2.638815516084361\n"
     ]
    }
   ],
   "source": [
    "min_err = 15\n",
    "for cc in np.linspace(-8,-.51,5):\n",
    "    for ch in np.linspace(-8,-.53,5):\n",
    "        for tcc in np.linspace(-8,-.503,5):\n",
    "            for tch in np.linspace(-8,-.51,5):\n",
    "                for cn in np.linspace(-8,-.481,5):\n",
    "                    for tcn in np.linspace(-8,-.497,5):\n",
    "                        x = [cc, ch, tcc, tch,cn,tcn]\n",
    "                        H = get_complex_ham_C5NH3_C5NH3a(cc, ch, tcc, tch,cn,tcn)\n",
    "                        opt = minimize(f, x, args=(H,E_ds['C5NH3_C5NH3a']),\n",
    "                                       method='Nelder-Mead')\n",
    "                        if opt.fun < min_err + .5:\n",
    "                            if opt.fun < min_err:\n",
    "                                min_err = opt.fun\n",
    "                            print(round(cc,3), round(ch,3),round(tcc,3),\n",
    "                                  round(tch,3),round(cn,3),round(tcn,3), \"   \", opt.fun)\n",
    "                            E_t5b = test_H(opt.x,H)\n",
    "                            E_t5b.sort()"
   ]
  },
  {
   "cell_type": "markdown",
   "id": "d191351f",
   "metadata": {},
   "source": [
    "## plot errors"
   ]
  },
  {
   "cell_type": "markdown",
   "id": "a6c72fd6",
   "metadata": {},
   "source": [
    "### simple"
   ]
  },
  {
   "cell_type": "code",
   "execution_count": 121,
   "id": "60b6f58d",
   "metadata": {},
   "outputs": [],
   "source": [
    "es = []\n",
    "esd = {}\n",
    "for k in E_ts_s.keys():\n",
    "    es.append(np.linalg.norm(np.subtract(E_ds[k],E_ts_s[k])))\n",
    "    esd[k] = np.linalg.norm(np.subtract(E_ds[k],E_ts_s[k]))\n",
    "#     for i in range(len(E_ds[''])):\n",
    "#         print(round(E_ds[][i],3), \"   \",round(E_ts[][i],3))"
   ]
  },
  {
   "cell_type": "markdown",
   "id": "cd0dd339",
   "metadata": {},
   "source": [
    "### complex"
   ]
  },
  {
   "cell_type": "code",
   "execution_count": 122,
   "id": "60bb64c2",
   "metadata": {},
   "outputs": [],
   "source": [
    "ec = []\n",
    "ecd = {}\n",
    "for k in E_ts_c.keys():\n",
    "    ec.append(np.linalg.norm(np.subtract(E_ds[k],E_ts_c[k])))\n",
    "    ecd[k] = np.linalg.norm(np.subtract(E_ds[k],E_ts_c[k]))"
   ]
  },
  {
   "cell_type": "code",
   "execution_count": 135,
   "id": "e0991090",
   "metadata": {},
   "outputs": [
    {
     "data": {
      "image/png": "[encoded data removed]",
      "text/plain": [
       "<Figure size 720x288 with 1 Axes>"
      ]
     },
     "metadata": {
      "needs_background": "light"
     },
     "output_type": "display_data"
    }
   ],
   "source": [
    "fig, ax = plt.subplots(1,1, figsize=(12,4))\n",
    "fig.set_figwidth(10)\n",
    "ax.bar(range(len(esd)), esd.values(),  width=0.2, align='center')\n",
    "ax.bar(np.arange(len(ecd))+.2, ecd.values(), width=0.2, color='r',align='center')\n",
    "ax.legend(('Strategy 1', 'Strategy 2'))\n",
    "plt.xticks(np.arange(len(ecd))-.2,list(esd.keys()))\n",
    "ax.set_title('Mean Absolute Error between DFT, TBM')\n",
    "ax.set_ylabel('MAE (eV)')\n",
    "plt.show()"
   ]
  },
  {
   "cell_type": "markdown",
   "id": "0d7f0cc2",
   "metadata": {},
   "source": [
    "## compare eigenvalues"
   ]
  },
  {
   "cell_type": "code",
   "execution_count": 129,
   "id": "7c2f0f6d",
   "metadata": {},
   "outputs": [
    {
     "data": {
      "image/png": "[encoded data removed]",
      "text/plain": [
       "<Figure size 576x288 with 3 Axes>"
      ]
     },
     "metadata": {
      "needs_background": "light"
     },
     "output_type": "display_data"
    },
    {
     "data": {
      "image/png": "[encoded data removed]",
      "text/plain": [
       "<Figure size 576x288 with 3 Axes>"
      ]
     },
     "metadata": {
      "needs_background": "light"
     },
     "output_type": "display_data"
    },
    {
     "data": {
      "image/png": "[encoded data removed]",
      "text/plain": [
       "<Figure size 576x288 with 3 Axes>"
      ]
     },
     "metadata": {
      "needs_background": "light"
     },
     "output_type": "display_data"
    },
    {
     "data": {
      "image/png": "[encoded data removed]",
      "text/plain": [
       "<Figure size 576x288 with 3 Axes>"
      ]
     },
     "metadata": {
      "needs_background": "light"
     },
     "output_type": "display_data"
    },
    {
     "data": {
      "image/png": "[encoded data removed]",
      "text/plain": [
       "<Figure size 576x288 with 3 Axes>"
      ]
     },
     "metadata": {
      "needs_background": "light"
     },
     "output_type": "display_data"
    }
   ],
   "source": [
    "for k in E_ts_s.keys():\n",
    "    E_d = E_ds[k]\n",
    "    Et = E_ts_s[k]\n",
    "    Etb = E_ts_c[k]\n",
    "    \n",
    "    fig, axs = plt.subplots(1,3, figsize=(8,4))\n",
    "    fig.subplots_adjust(wspace=0)\n",
    "    axs[1].set_yticks([])\n",
    "    axs[2].set_yticks([])\n",
    "    axs[0].set_xticks([])\n",
    "    axs[1].set_xticks([])\n",
    "    axs[2].set_xticks([])\n",
    "    axs[0].set_ylabel('Energy (eV)')\n",
    "    for i in range(len(E_d)):\n",
    "        axs[0].axhline(Et[i])\n",
    "        axs[1].axhline(E_d[i])\n",
    "        axs[2].axhline(Etb[i])\n",
    "    \n",
    "    fig.suptitle(k)\n",
    "    axs[0].set_title('Strategy 1')\n",
    "    axs[1].set_title('DFT')\n",
    "    axs[2].set_title('Strategy 2')"
   ]
  },
  {
   "cell_type": "code",
   "execution_count": null,
   "id": "6ea9f432",
   "metadata": {},
   "outputs": [],
   "source": []
  },
  {
   "cell_type": "code",
   "execution_count": null,
   "id": "4e8c43fb",
   "metadata": {},
   "outputs": [],
   "source": []
  },
  {
   "cell_type": "code",
   "execution_count": null,
   "id": "b880d08a",
   "metadata": {},
   "outputs": [],
   "source": []
  },
  {
   "cell_type": "code",
   "execution_count": null,
   "id": "315b5c9a",
   "metadata": {},
   "outputs": [],
   "source": [
    "# 1d C6H4_C6H4 simple\n",
    "E_d = [-7.65165, -7.65165, -6.80908,-6.80908, -5.2358,-5.2358,\n",
    "           -1.79467,-1.79467,0.27853,0.27853,0.37911,0.37911]\n",
    "\n",
    "min_err = 100\n",
    "for cc in np.linspace(-10,0,5):\n",
    "    for ch in np.linspace(-10,0,5):\n",
    "        for tcc in np.linspace(-10,0,5):\n",
    "            for tch in np.linspace(-10,0,5):\n",
    "                x = [cc, ch, tcc, tch]\n",
    "                H = get_simple_ham_C6H4_C6H4(cc, ch, tcc, tch)\n",
    "                opt = minimize(f, x, args=(H), method='Nelder-Mead')\n",
    "                if opt.fun < min_err + .5:\n",
    "                    min_err = opt.fun\n",
    "                    print(round(cc,3), round(ch,3), round(tcc,3), round(tch,3), \"   \", opt.fun)\n",
    "                    E_t = test_H(opt.x)\n",
    "                    E_t.sort()\n",
    "min_err = 100\n",
    "for cc in np.linspace(-10,0,5):\n",
    "    for ch in np.linspace(-10,0,5):\n",
    "        for tcc in np.linspace(-10,0,5):\n",
    "            for tch in np.linspace(-10,0,5):\n",
    "                x = [cc, ch, tcc, tch]\n",
    "                H = get_simple_ham_C6H4_C6H4(cc, ch, tcc, tch)\n",
    "                opt = minimize(f, x, args=(H), method='Nelder-Mead')\n",
    "                if opt.fun < min_err + .5:\n",
    "                    min_err = opt.fun\n",
    "                    print(round(cc,3), round(ch,3), round(tcc,3), round(tch,3), \"   \", opt.fun)\n",
    "                    E_t = test_H(opt.x)\n",
    "                    E_t.sort()"
   ]
  },
  {
   "cell_type": "code",
   "execution_count": 12,
   "id": "537c982e",
   "metadata": {
    "collapsed": true
   },
   "outputs": [
    {
     "name": "stdout",
     "output_type": "stream",
     "text": [
      "-10.0 -10.0     15.64113455677386\n",
      "-7.652     -16.532\n",
      "-7.652     -16.026\n",
      "-6.809     -9.817\n",
      "-6.809     -9.521\n",
      "-5.236     -8.108\n",
      "-5.236     -7.836\n",
      "-1.795     -7.247\n",
      "-1.795     -7.009\n",
      "0.279     -5.534\n",
      "0.279     -5.241\n",
      "0.379     -0.407\n",
      "0.379     0.185\n",
      "-10.0 -10.0     4.915912726134493\n",
      "-7.652     -9.407\n",
      "-7.652     -8.541\n",
      "-6.809     -6.231\n",
      "-6.809     -4.654\n",
      "-5.236     -4.598\n",
      "-5.236     -4.255\n",
      "-1.795     -1.868\n",
      "-1.795     -1.496\n",
      "0.279     -1.031\n",
      "0.279     -0.785\n",
      "0.379     0.367\n",
      "0.379     0.862\n",
      "-10.0 0.0     4.9158934110054116\n",
      "-7.652     -9.412\n",
      "-7.652     -8.546\n",
      "-6.809     -6.233\n",
      "-6.809     -4.655\n",
      "-5.236     -4.6\n",
      "-5.236     -4.257\n",
      "-1.795     -1.871\n",
      "-1.795     -1.498\n",
      "0.279     -1.032\n",
      "0.279     -0.787\n",
      "0.379     0.365\n",
      "0.379     0.86\n",
      "-10.0 -10.0     4.91588667008212\n",
      "-7.652     -9.412\n",
      "-7.652     -8.546\n",
      "-6.809     -6.233\n",
      "-6.809     -4.655\n",
      "-5.236     -4.601\n",
      "-5.236     -4.257\n",
      "-1.795     -1.871\n",
      "-1.795     -1.499\n",
      "0.279     -1.032\n",
      "0.279     -0.787\n",
      "0.379     0.365\n",
      "0.379     0.86\n",
      "-10.0 -5.0     4.851841346067054\n",
      "-7.652     -8.98\n",
      "-7.652     -8.011\n",
      "-6.809     -6.02\n",
      "-6.809     -5.165\n",
      "-5.236     -4.432\n",
      "-5.236     -4.091\n",
      "-1.795     -2.459\n",
      "-1.795     -2.069\n",
      "0.279     -1.108\n",
      "0.279     -0.331\n",
      "0.379     -0.305\n",
      "0.379     1.09\n",
      "-10.0 -5.0     4.603673314217325\n",
      "-7.652     -8.866\n",
      "-7.652     -7.617\n",
      "-6.809     -6.383\n",
      "-6.809     -5.505\n",
      "-5.236     -4.59\n",
      "-5.236     -4.153\n",
      "-1.795     -2.419\n",
      "-1.795     -1.972\n",
      "0.279     -0.991\n",
      "0.279     -0.134\n",
      "0.379     0.56\n",
      "0.379     1.929\n",
      "-7.5 -2.5     4.568469999836955\n",
      "-7.652     -9.078\n",
      "-7.652     -7.784\n",
      "-6.809     -6.629\n",
      "-6.809     -5.796\n",
      "-5.236     -4.775\n",
      "-5.236     -4.322\n",
      "-1.795     -2.654\n",
      "-1.795     -2.202\n",
      "0.279     -1.19\n",
      "0.279     -0.354\n",
      "0.379     0.877\n",
      "0.379     2.155\n",
      "-5.0 -5.0     4.556981856830171\n",
      "-7.652     -9.084\n",
      "-7.652     -7.767\n",
      "-6.809     -6.66\n",
      "-6.809     -5.818\n",
      "-5.236     -4.789\n",
      "-5.236     -4.332\n",
      "-1.795     -2.642\n",
      "-1.795     -2.187\n",
      "0.279     -1.176\n",
      "0.279     -0.328\n",
      "0.379     0.93\n",
      "0.379     2.215\n",
      "-2.5 -7.5     4.534496642141892\n",
      "-7.652     -9.175\n",
      "-7.652     -7.803\n",
      "-6.809     -6.818\n",
      "-6.809     -5.979\n",
      "-5.236     -4.892\n",
      "-5.236     -4.43\n",
      "-1.795     -2.732\n",
      "-1.795     -2.272\n",
      "0.279     -1.255\n",
      "0.279     -0.396\n",
      "0.379     1.181\n",
      "0.379     2.43\n"
     ]
    }
   ],
   "source": [
    "E_d = [-7.65165, -7.65165, -6.80908,-6.80908, -5.2358,-5.2358,\n",
    "           -1.79467,-1.79467,0.27853,0.27853,0.37911,0.37911]\n",
    "min_err = 100\n",
    "for cc in np.linspace(-10,0,5):\n",
    "    for ch in np.linspace(-10,0,5):\n",
    "        for tcc in np.linspace(-10,0,5):\n",
    "            for tch in np.linspace(-10,0,5):\n",
    "                x = [cc, ch, tcc, tch]\n",
    "                opt = minimize(f, x, method='Nelder-Mead')\n",
    "                if opt.fun < min_err:\n",
    "                    min_err = opt.fun\n",
    "                    print(round(cc,3),round(tcc,3), \"   \", opt.fun)\n",
    "                    E_t = test_H(opt.x)\n",
    "                    E_t.sort()\n",
    "\n",
    "#                    np.linalg.norm(np.subtract(E_d,E_t))\n",
    "                    for i in range(len(E_d)):\n",
    "                        print(round(E_d[i],3), \"   \",round(E_t[i],3))\n",
    "        #         elif abs(opt.fun - min_err) < .5:\n",
    "        #             print(round(cc,3),round(tcc,3), \"   \", opt.fun, 'nl')\n"
   ]
  },
  {
   "cell_type": "code",
   "execution_count": null,
   "id": "c10860b4",
   "metadata": {},
   "outputs": [],
   "source": []
  },
  {
   "cell_type": "code",
   "execution_count": null,
   "id": "42f05cd3",
   "metadata": {},
   "outputs": [],
   "source": []
  },
  {
   "cell_type": "code",
   "execution_count": 11,
   "id": "d2733552",
   "metadata": {},
   "outputs": [
    {
     "name": "stdout",
     "output_type": "stream",
     "text": [
      "4.000234310838086\n",
      "-6.989     -8.224\n",
      "-6.966     -7.869\n",
      "-6.501     -6.653\n",
      "-6.418     -6.653\n",
      "-4.569     -6.232\n",
      "-4.541     -6.232\n",
      "-0.555     -1.752\n",
      "-0.481     -1.752\n",
      "0.274     -1.656\n",
      "0.773     -1.656\n",
      "0.912     -0.181\n",
      "1.555     -0.02\n"
     ]
    }
   ],
   "source": [
    "cc_0 = -3.7\n",
    "ch_0 = -3.1\n",
    "tcc_0 = -3\n",
    "tch_0 = -1\n",
    "x = [cc_0, ch_0, tcc_0, tch_0]\n",
    "opt2 = minimize(f, x, method='Nelder-Mead')\n",
    "print(opt2.fun)\n",
    "E_t = test_H(opt2.x)\n",
    "E_t.sort()\n",
    "\n",
    "np.linalg.norm(np.subtract(E_d,E_t))\n",
    "for i in range(len(E_d)):\n",
    "    print(round(E_d[i],3), \"   \",round(E_t[i],3))"
   ]
  },
  {
   "cell_type": "code",
   "execution_count": 125,
   "id": "bd1dc422",
   "metadata": {},
   "outputs": [],
   "source": [
    "E_d = np.array([-6.98890,-6.96555,-6.50099,-6.41836,-4.56937,-4.54055,\n",
    "                     -0.55548,-0.48118,0.27372,0.77300,0.91215,1.55538])"
   ]
  },
  {
   "cell_type": "code",
   "execution_count": 134,
   "id": "510d32e1",
   "metadata": {},
   "outputs": [
    {
     "name": "stdout",
     "output_type": "stream",
     "text": [
      "-6.989     -6.68\n",
      "-6.966     -6.674\n",
      "-6.501     -6.674\n",
      "-6.418     -5.22\n",
      "-4.569     -5.213\n",
      "-4.541     -5.213\n",
      "-0.555     0.36\n",
      "-0.481     0.36\n",
      "0.274     0.36\n",
      "0.773     0.36\n",
      "0.912     0.366\n",
      "1.555     0.368\n"
     ]
    }
   ],
   "source": [
    "np.linalg.norm(np.subtract(E_d,E_t))\n",
    "\n",
    "for i in range(len(E_d)):\n",
    "    print(round(E_d[i],3), \"   \",round(E_t[i],3))"
   ]
  },
  {
   "cell_type": "code",
   "execution_count": 136,
   "id": "38820bfe",
   "metadata": {},
   "outputs": [
    {
     "data": {
      "text/plain": [
       "array([-6.67965663, -6.67368805, -6.67368805, -5.22030756, -5.21277873,\n",
       "       -5.21277873,  0.3597344 ,  0.3597344 ,  0.36025676,  0.36025676,\n",
       "        0.36570298,  0.36778559])"
      ]
     },
     "execution_count": 136,
     "metadata": {},
     "output_type": "execute_result"
    }
   ],
   "source": [
    "E_t = test_H(opt.x)\n",
    "E_t.sort()\n",
    "E_t"
   ]
  },
  {
   "cell_type": "markdown",
   "id": "dee0cb70",
   "metadata": {},
   "source": [
    "for C6H3_C6H3\n",
    "\n",
    "-1.379 -0.922 -3 -1 2.7537444855780704 \n",
    "\n",
    "-1.379 -7.931 -3 -1    3.144746942461843\n",
    "-5.0 -10.0 -0.345 0.0     2.5930676950499927\n",
    "\n",
    "-1.379 -0.33 -3 -1     2.8488064474852552\n",
    "\n",
    "-3.7 -3.1 -2.68 -1 2.74224700615586 *** going with this one"
   ]
  },
  {
   "cell_type": "code",
   "execution_count": 165,
   "id": "29d32d5a",
   "metadata": {},
   "outputs": [
    {
     "name": "stdout",
     "output_type": "stream",
     "text": [
      "-3.7 -3.1 -2.68 -4.0     19.035242843326518\n",
      "-3.7 -3.1 -2.68 -3.996     18.65841839104447\n",
      "-3.7 -3.1 -2.68 -3.992     18.71589147739145 nl\n",
      "-3.7 -3.1 -2.68 -3.988     18.856068160266094 nl\n",
      "-3.7 -3.1 -2.68 -3.984     18.614972279543725\n",
      "-3.7 -3.1 -2.68 -3.98     18.7078890698777 nl\n",
      "-3.7 -3.1 -2.68 -3.976     18.66977891513641 nl\n",
      "-3.7 -3.1 -2.68 -3.972     18.84414559325288 nl\n",
      "-3.7 -3.1 -2.68 -3.968     18.52258959315014\n",
      "-3.7 -3.1 -2.68 -3.964     18.48592181715376\n",
      "-3.7 -3.1 -2.68 -3.96     18.769449249289103 nl\n",
      "-3.7 -3.1 -2.68 -3.956     18.95929105063579 nl\n",
      "-3.7 -3.1 -2.68 -3.952     18.923483055809587 nl\n",
      "-3.7 -3.1 -2.68 -3.948     18.703440269614063 nl\n",
      "-3.7 -3.1 -2.68 -3.944     18.861413535790025 nl\n",
      "-3.7 -3.1 -2.68 -3.936     18.962819797614703 nl\n",
      "-3.7 -3.1 -2.68 -3.932     18.972033920661396 nl\n",
      "-3.7 -3.1 -2.68 -3.928     18.721698215343746 nl\n",
      "-3.7 -3.1 -2.68 -3.924     18.695410353122448 nl\n",
      "-3.7 -3.1 -2.68 -3.92     18.262978243181706\n",
      "-3.7 -3.1 -2.68 -3.916     17.099724939941424\n",
      "-3.7 -3.1 -2.68 -3.848     17.579987554508442 nl\n",
      "-3.7 -3.1 -2.68 -3.808     17.33787507057913 nl\n",
      "-3.7 -3.1 -2.68 -3.796     16.258996448719717\n",
      "-3.7 -3.1 -2.68 -3.788     16.585110434699658 nl\n",
      "-3.7 -3.1 -2.68 -3.74     16.104892403262106\n",
      "-3.7 -3.1 -2.68 -3.664     14.252626655891486\n",
      "-3.7 -3.1 -2.68 -3.652     11.551506971382935\n",
      "-3.7 -3.1 -2.68 -3.58     11.17358426700688\n",
      "-3.7 -3.1 -2.68 -3.36     11.056040039644037\n",
      "-3.7 -3.1 -2.68 -3.16     9.568732600753167\n",
      "-3.7 -3.1 -2.68 -2.476     9.76386087764639 nl\n",
      "-3.7 -3.1 -2.68 -2.436     9.954699677427806 nl\n",
      "-3.7 -3.1 -2.68 -2.408     9.980078999634852 nl\n",
      "-3.7 -3.1 -2.68 -2.3280000000000003     10.029713268625562 nl\n",
      "-3.7 -3.1 -2.68 -2.276     9.854164702549905 nl\n",
      "-3.7 -3.1 -2.68 -2.2560000000000002     9.811792667458594 nl\n",
      "-3.7 -3.1 -2.68 -2.24     9.987529085094511 nl\n",
      "-3.7 -3.1 -2.68 -2.1799999999999997     9.442195284316474\n",
      "-3.7 -3.1 -2.68 -1.564     8.711736673913931\n",
      "-3.7 -3.1 -2.68 -1.528     6.597399759294645\n",
      "-3.7 -3.1 -2.68 -1.1919999999999997     7.012696963381872 nl\n",
      "-3.7 -3.1 -2.68 -1.108     3.4900800661858105\n",
      "-3.7 -3.1 -2.68 -1.064     2.7485260567821026\n",
      "-3.7 -3.1 -2.68 -0.7559999999999998     2.785894824136843 nl\n",
      "-3.7 -3.1 -2.68 -0.1200000000000001     2.796625340681633 nl\n",
      "-3.7 -3.1 -2.68 -0.1120000000000001     2.9925152248355915 nl\n",
      "-3.7 -3.1 -2.68 -0.03200000000000003     3.0896170282720363 nl\n",
      "-3.7 -3.1 -2.68 -0.028000000000000025     2.4499765664024666\n",
      "-3.7 -3.1 -2.68 -0.02400000000000002     2.720315000820759 nl\n",
      "-3.7 -3.1 -2.68 -0.020000000000000018     2.641823675165826 nl\n",
      "-3.7 -3.1 -2.68 -0.016000000000000014     2.8938689266455375 nl\n"
     ]
    }
   ],
   "source": [
    "cc_1 = -3.7\n",
    "ch_1 = -3.1\n",
    "tcc_1 = -2.68\n",
    "tch_1 = -1\n",
    "\n",
    "min_err = 100\n",
    "# for cc in np.linspace(-5,-1, 7):\n",
    "#    for ch in np.linspace(-10,-2,7):\n",
    "#        for tcc in np.linspace(-10,-1,6):\n",
    "for tch in np.linspace(-4,0,1001):\n",
    "    x = [cc_1, ch_1, tcc_1, tch]\n",
    "    opt = minimize(f, x, method='Nelder-Mead')\n",
    "    if opt.fun < min_err:\n",
    "        min_err = opt.fun\n",
    "        print(round(cc_1,3),round(ch_1,3),round(tcc_1,3),tch, \"   \", opt.fun)\n",
    "    elif abs(opt.fun - min_err) < .5:\n",
    "        print(round(cc_1,3),round(ch_1,3),round(tcc_1,3),tch, \"   \", opt.fun, 'nl')\n"
   ]
  },
  {
   "cell_type": "code",
   "execution_count": 12,
   "id": "4427f58f",
   "metadata": {},
   "outputs": [
    {
     "name": "stdout",
     "output_type": "stream",
     "text": [
      "4.00029147715677\n",
      "-7.685     -8.228\n",
      "-7.674     -7.88\n",
      "-7.188     -6.656\n",
      "-6.374     -6.656\n",
      "-5.779     -6.244\n",
      "-5.172     -6.244\n",
      "-1.776     -1.756\n",
      "-0.78     -1.756\n",
      "-0.594     -1.662\n",
      "-0.292     -1.662\n",
      "-0.061     -0.185\n",
      "0.446     -0.026\n"
     ]
    }
   ],
   "source": [
    "cc_0 = -3.7\n",
    "ch_0 = -3.1\n",
    "tcc_0 = -2.68\n",
    "tch_0 = -1.064\n",
    "x = [cc_0, ch_0, tcc_0, tch_0]\n",
    "opt2 = minimize(f, x, method='Powell')#Nelder-Mead')\n",
    "opt2.fun\n",
    "print(opt2.fun)\n",
    "E_t = test_H(opt2.x)\n",
    "E_t.sort()\n",
    "E_d = np.array([-7.6852,\n",
    " -7.6738,\n",
    " -7.1884,\n",
    " -6.3742,\n",
    " -5.7786,\n",
    " -5.1724,\n",
    " -1.7764,\n",
    " -0.7801,\n",
    " -0.594,\n",
    " -0.2925,\n",
    " -0.0612,\n",
    " 0.4458])\n",
    "np.linalg.norm(np.subtract(E_d,E_t))\n",
    "for i in range(len(E_d)):\n",
    "    print(round(E_d[i],3), \"   \",round(E_t[i],3))"
   ]
  },
  {
   "cell_type": "code",
   "execution_count": 168,
   "id": "fa9d291f",
   "metadata": {},
   "outputs": [
    {
     "name": "stdout",
     "output_type": "stream",
     "text": [
      "-6.989     -6.761\n",
      "-6.966     -6.681\n",
      "-6.501     -6.681\n",
      "-6.418     -5.334\n",
      "-4.569     -5.234\n",
      "-4.541     -5.234\n",
      "-0.555     0.4\n",
      "-0.481     0.4\n",
      "0.274     0.407\n",
      "0.773     0.407\n",
      "0.912     0.48\n",
      "1.555     0.507\n"
     ]
    }
   ],
   "source": [
    "cc_0 = -3.7\n",
    "ch_0 = -3.1\n",
    "tcc_0 = -2.68\n",
    "tch_0 = -1\n",
    "x = [cc_0, ch_0, tcc_0, tch_0]\n",
    "opt2 = minimize(f, x, method='Powell')#Nelder-Mead')\n",
    "opt2.fun\n",
    "\n",
    "E_t = test_H(opt2.x)\n",
    "E_t.sort()\n",
    "E_d = np.array([-6.98890,-6.96555,-6.50099,-6.41836,-4.56937,-4.54055,\n",
    "                     -0.55548,-0.48118,0.27372,0.77300,0.91215,1.55538])\n",
    "np.linalg.norm(np.subtract(E_d,E_t))\n",
    "for i in range(len(E_d)):\n",
    "    print(round(E_d[i],3), \"   \",round(E_t[i],3))"
   ]
  },
  {
   "cell_type": "markdown",
   "id": "21f86caf",
   "metadata": {},
   "source": [
    "For C6H4_C6H4\n",
    "for 4 variables, we get 4.02 as the min,\n",
    "for 2 variables it's -7.93, -1.0 for 9.13\n",
    "best so far:\n",
    "cc_0 = -3.7, ch_0 = -3.1, tcc_0 = -3, tch_0 = -1: 4.000234310838086"
   ]
  },
  {
   "cell_type": "code",
   "execution_count": null,
   "id": "3ab9e4f1",
   "metadata": {},
   "outputs": [],
   "source": [
    "# mu_0 = -3.7172\n",
    "# t_0 = -2.5626\n",
    "# x = [mu_0, t_0]\n",
    "# opt = minimize(benz, x, method='Nelder-Mead')"
   ]
  },
  {
   "cell_type": "code",
   "execution_count": 53,
   "id": "bfc082c5",
   "metadata": {},
   "outputs": [
    {
     "data": {
      "text/plain": [
       "4.000234310838086"
      ]
     },
     "execution_count": 53,
     "metadata": {},
     "output_type": "execute_result"
    }
   ],
   "source": []
  },
  {
   "cell_type": "code",
   "execution_count": 99,
   "id": "6c13e7ed",
   "metadata": {},
   "outputs": [
    {
     "data": {
      "text/plain": [
       "array([-8.27846128, -7.26800118, -6.94954101, -5.65690009, -4.87995525,\n",
       "       -4.73540571, -1.6459507 , -1.29140715, -1.18035585, -0.89817503,\n",
       "        0.72472844,  0.93472244])"
      ]
     },
     "execution_count": 99,
     "metadata": {},
     "output_type": "execute_result"
    }
   ],
   "source": [
    "a = test_H(opt.x)\n",
    "a.sort()\n",
    "a"
   ]
  },
  {
   "cell_type": "code",
   "execution_count": 53,
   "id": "c3703d11",
   "metadata": {},
   "outputs": [
    {
     "name": "stdout",
     "output_type": "stream",
     "text": [
      "[[-5.56 -0.26  0.    0.    0.   -0.26 -1.84  0.    0.    0.    0.    0.  ]\n",
      " [-0.26 -2.59 -0.26  0.    0.    0.    0.    0.    0.    0.    0.    0.  ]\n",
      " [ 0.   -0.26 -5.56 -0.26  0.    0.    0.    0.   -1.84  0.    0.    0.  ]\n",
      " [ 0.    0.   -0.26 -2.59 -0.26  0.    0.    0.    0.    0.    0.    0.  ]\n",
      " [ 0.    0.    0.   -0.26 -2.59 -0.26  0.    0.    0.    0.    0.    0.  ]\n",
      " [-0.26  0.    0.    0.   -0.26 -2.59  0.    0.    0.    0.    0.    0.  ]\n",
      " [-1.84  0.    0.    0.    0.    0.   -5.56 -0.26  0.    0.    0.   -0.26]\n",
      " [ 0.    0.    0.    0.    0.    0.   -0.26 -2.59 -0.26  0.    0.    0.  ]\n",
      " [ 0.    0.   -1.84  0.    0.    0.    0.   -0.26 -5.56 -0.26  0.    0.  ]\n",
      " [ 0.    0.    0.    0.    0.    0.    0.    0.   -0.26 -2.59 -0.26  0.  ]\n",
      " [ 0.    0.    0.    0.    0.    0.    0.    0.    0.   -0.26 -2.59 -0.26]\n",
      " [ 0.    0.    0.    0.    0.    0.   -0.26  0.    0.    0.   -0.26 -2.59]]\n"
     ]
    }
   ],
   "source": [
    "disp_H(opt.x)"
   ]
  },
  {
   "cell_type": "code",
   "execution_count": 101,
   "id": "bcd6c47e",
   "metadata": {},
   "outputs": [
    {
     "name": "stdout",
     "output_type": "stream",
     "text": [
      "-0.5932612846751546\n",
      "0.4057988217778563\n",
      "0.23885898724074472\n",
      "0.7172999094372043\n",
      "0.8986447476805601\n",
      "0.4369942882474218\n",
      "0.13044930325408033\n",
      "-0.5113071495476091\n",
      "-0.5863558459586286\n",
      "-0.6056750302151752\n",
      "0.7859284376989811\n",
      "0.48892244433043064\n"
     ]
    }
   ],
   "source": [
    "for i in range(len(b)):\n",
    "    print(a[i]-b[i])"
   ]
  },
  {
   "cell_type": "code",
   "execution_count": 100,
   "id": "0a8fd707",
   "metadata": {},
   "outputs": [
    {
     "data": {
      "text/plain": [
       "array([-8.27846128, -7.26800118, -6.94954101, -5.65690009, -4.87995525,\n",
       "       -4.73540571, -1.6459507 , -1.29140715, -1.18035585, -0.89817503,\n",
       "        0.72472844,  0.93472244])"
      ]
     },
     "execution_count": 100,
     "metadata": {},
     "output_type": "execute_result"
    }
   ],
   "source": [
    "a.sort()\n",
    "a"
   ]
  },
  {
   "cell_type": "code",
   "execution_count": 55,
   "id": "cea83439",
   "metadata": {},
   "outputs": [],
   "source": [
    "b = [-7.6852,\n",
    " -7.6738,\n",
    " -7.1884,\n",
    " -6.3742,\n",
    " -5.7786,\n",
    " -5.1724,\n",
    " -1.7764,\n",
    " -0.7801,\n",
    " -0.594,\n",
    " -0.2925,\n",
    " -0.0612,\n",
    " 0.4458]"
   ]
  },
  {
   "cell_type": "code",
   "execution_count": 86,
   "id": "ef6a8796",
   "metadata": {},
   "outputs": [
    {
     "data": {
      "text/plain": [
       "[-9.96554463,\n",
       " -8.21865869,\n",
       " -7.8635739,\n",
       " -6.63488479,\n",
       " -5.81917073,\n",
       " -5.3009739,\n",
       " -2.1334261,\n",
       " -1.61522927,\n",
       " -0.79951521,\n",
       " 0.4291739,\n",
       " 0.78425869,\n",
       " 2.53114463]"
      ]
     },
     "execution_count": 86,
     "metadata": {},
     "output_type": "execute_result"
    }
   ],
   "source": [
    "c = [2.53114463, -9.96554463,  0.78425869,  0.4291739,  -0.79951521, -1.61522927,\n",
    " -2.1334261,  -8.21865869, -7.8635739,  -6.63488479, -5.3009739,  -5.81917073]\n",
    "c.sort()\n",
    "c"
   ]
  },
  {
   "cell_type": "code",
   "execution_count": 87,
   "id": "ebe12988",
   "metadata": {},
   "outputs": [
    {
     "name": "stdout",
     "output_type": "stream",
     "text": [
      "1.10799891\n",
      "-2.28034463\n",
      "\n",
      "1.9957201500000004\n",
      "-0.5448586899999999\n",
      "\n",
      "1.54233449\n",
      "-0.6751738999999999\n",
      "\n",
      "1.4955315000000002\n",
      "-0.26068479\n",
      "\n",
      "1.2287870400000003\n",
      "-0.04057072999999978\n",
      "\n",
      "0.8065850000000001\n",
      "-0.12857390000000013\n",
      "\n",
      "-1.03920348\n",
      "-0.3570260999999999\n",
      "\n",
      "-1.77020439\n",
      "-0.8351292699999999\n",
      "\n",
      "-1.57517511\n",
      "-0.20551521000000006\n",
      "\n",
      "-1.5592166\n",
      "0.7216739\n",
      "\n",
      "-1.3571749400000002\n",
      "0.8454586900000001\n",
      "\n",
      "-1.22914359\n",
      "2.08534463\n",
      "\n"
     ]
    }
   ],
   "source": [
    "for i in range(12):\n",
    "    print(a[i] - b[i])\n",
    "    print(c[i] - b[i])\n",
    "    print()"
   ]
  },
  {
   "cell_type": "code",
   "execution_count": null,
   "id": "9d256c2c",
   "metadata": {},
   "outputs": [],
   "source": []
  },
  {
   "cell_type": "code",
   "execution_count": 10,
   "id": "2bfeb0da",
   "metadata": {},
   "outputs": [],
   "source": [
    "def benz(x):\n",
    "    \"\"\"\n",
    "    x is the unknowns\n",
    "    \"\"\"\n",
    "    \n",
    "    mu = x[0]\n",
    "    t = x[1]\n",
    "    \n",
    "    H = np.array([\n",
    "        np.array([mu,t,0,0,0,t]),   # 1\n",
    "        np.array([t,mu,t,0,0,0]),   # 2\n",
    "        np.array([0,t,mu,t,0,0]),   # 3\n",
    "        np.array([0,0,t,mu,t,0]),   # 4\n",
    "        np.array([0,0,0,t,mu,t]),   # 5\n",
    "        np.array([t,0,0,0,t,mu]),   # 6\n",
    "    ])\n",
    "\n",
    "    E_t = np.linalg.eig(H)[0]\n",
    "    E_d = get_dft_energies(13,19,\"C6H4\",conf=\"B\")\n",
    "\n",
    "    diff = np.subtract(E_d, E_t)\n",
    "\n",
    "    return np.linalg.norm(diff)"
   ]
  },
  {
   "cell_type": "code",
   "execution_count": null,
   "id": "27430248",
   "metadata": {},
   "outputs": [],
   "source": []
  }
 ],
 "metadata": {
  "kernelspec": {
   "display_name": "Python 3 (ipykernel)",
   "language": "python",
   "name": "python3"
  },
  "language_info": {
   "codemirror_mode": {
    "name": "ipython",
    "version": 3
   },
   "file_extension": ".py",
   "mimetype": "text/x-python",
   "name": "python",
   "nbconvert_exporter": "python",
   "pygments_lexer": "ipython3",
   "version": "3.8.5"
  }
 },
 "nbformat": 4,
 "nbformat_minor": 5
}
